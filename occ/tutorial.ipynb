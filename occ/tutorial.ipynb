{
 "cells": [
  {
   "cell_type": "markdown",
   "metadata": {},
   "source": [
    "# occmodeler tutorial\n",
    "\n",
    "## Setup the python path\n",
    "\n",
    "Add `pyspike` to the python path if necessary (this will be streamlined once `occmodeler` is properly packaged)\n"
   ]
  },
  {
   "cell_type": "code",
   "execution_count": 4,
   "metadata": {
    "pycharm": {
     "is_executing": false,
     "name": "#%%\n"
    }
   },
   "outputs": [
    {
     "name": "stdout",
     "output_type": "stream",
     "text": [
      "Added to python path: '/Users/walton/Documents/DPhil/code/occmodeller/pyspike'\n"
     ]
    }
   ],
   "source": [
    "import sys, os, pathlib\n",
    "pyspike_dir = str(pathlib.Path(os.path.abspath('')).parents[0] / 'pyspike')\n",
    "if pyspike_dir not in sys.path:\n",
    "    sys.path.insert(0, pyspike_dir)\n",
    "    print(f\"Added to python path: '{pyspike_dir}'\")\n",
    "else:\n",
    "    print(f\"pyspike on python path!\")"
   ]
  },
  {
   "cell_type": "code",
   "execution_count": 5,
   "metadata": {
    "pycharm": {
     "is_executing": false,
     "name": "#%%\n"
    }
   },
   "outputs": [],
   "source": [
    "%load_ext autoreload\n",
    "%autoreload 2"
   ]
  },
  {
   "cell_type": "markdown",
   "metadata": {
    "pycharm": {
     "name": "#%% md\n"
    }
   },
   "source": [
    "## Occasion modeling primitives\n",
    "\n",
    "### Primitives from WebSci'19 paper\n",
    "Some of the models built in the WebSci'19 paper act as primitive transitions. These were:\n",
    "\n",
    "| Model | Primitive | `occ.model.transitions` |\n",
    "| --- | --- | --- |\n",
    "| Diffusion | Follow one neighbour | `FollowNeighbour(src, dst, rate)` |\n",
    "| Diffusion with echo | Follow two neighbours | `FollowTwoNeighbours(src, dst, rate)`\n",
    "| Issue conflation model | Modulated internal | `ModulatedInternal(src, dst, internal_mod)`\n",
    "\n",
    "Where `src` is the place in $Unit$ to move a token from and `dst` is the destination place to move it to. These pair highlight the un-discussed state-machine type functionality in $Unit$.\n",
    "`rate` is the $\\lambda$ Poisson firing rate in firings per time unit.\n",
    "`internal_mod` is the place internal to $Unit$ which enambles the internal state transition from `src` to `dst`.\n",
    "\n",
    "### Creating primitives\n",
    "\n",
    "The encoding of these transitions is currently made straight to the CANDL file format used by Spike and is not worth describing here. In the future this mapping will be through a coloured Petri net representation and will be presented here. This will allow `occmodeler` users to check existing occasion modeling primitives and to build new ones.\n",
    "\n",
    "\n"
   ]
  },
  {
   "cell_type": "markdown",
   "metadata": {},
   "source": [
    "## Building models from primitives\n",
    "\n",
    "The `occ.model` package contains code for building models at a higher level of abstraction than coloured petri nets.\n",
    "\n",
    "### Model each repeating unit\n",
    "The primitives in `occ.model.transitions` just introduced depend on the colour (or type) $Unit$, with which to represent each repeating Unit, and on variables of type $Unit$ with which to label input and output arcs:\n"
   ]
  },
  {
   "cell_type": "code",
   "execution_count": 6,
   "metadata": {
    "pycharm": {
     "is_executing": false,
     "name": "#%%\n"
    }
   },
   "outputs": [],
   "source": [
    "import occ.model\n",
    "\n",
    "unit_colour = occ.model.Color('Unit')\n",
    "\n",
    "u = unit_colour.var('u')  # Used to identify arcs belonging to am instance of Unit\n",
    "n1 = unit_colour.var('n1')  # Used to identify a units potential first neighbour\n",
    "n2 = unit_colour.var('n2')  # Used to identify a units potential second neighbour"
   ]
  },
  {
   "cell_type": "markdown",
   "metadata": {
    "pycharm": {
     "name": "#%% md\n"
    }
   },
   "source": [
    "\n",
    "A model requires places of color $Unit$. Here the initial markings are set so that units 1 and 2 start in place $a$ and unit 0 starts in place $b$ (we will look at an oftent more convenient way of configuring the initial marking later):"
   ]
  },
  {
   "cell_type": "code",
   "execution_count": 7,
   "metadata": {
    "pycharm": {
     "is_executing": false,
     "name": "#%%\n"
    }
   },
   "outputs": [],
   "source": [
    "a = unit_colour.place('a', occ.model.marking([1, 2]))\n",
    "b = unit_colour.place('b', occ.model.marking([0]))"
   ]
  },
  {
   "cell_type": "markdown",
   "metadata": {
    "pycharm": {
     "name": "#%% md\n"
    }
   },
   "source": [
    "\n",
    "\n",
    "To create a model we include these in a `UnitModel` (there is currently unabstracted complexity here as instances of UnitModel will always required the colour $Unit$ and the variables `u` and `n1`):"
   ]
  },
  {
   "cell_type": "code",
   "execution_count": 8,
   "metadata": {
    "pycharm": {
     "is_executing": false,
     "name": "#%%\n"
    }
   },
   "outputs": [],
   "source": [
    "m = occ.model.UnitModel(\n",
    "    name='tutorial - diffusion model',\n",
    "    colors=[unit_colour],\n",
    "    variables=[u, n1],\n",
    "    places=[a, b]\n",
    ")\n"
   ]
  },
  {
   "cell_type": "markdown",
   "metadata": {
    "pycharm": {
     "name": "#%% md\n"
    }
   },
   "source": [
    "To reproduce the simple diffusion model of Figures 3, 4 and 5a, we need only add a single transition from a ($x_0$ in the text) and b ($x_a$) in the text we add a single FollowNeighbour transition from `a` to `b`.\n"
   ]
  },
  {
   "cell_type": "code",
   "execution_count": 9,
   "metadata": {
    "pycharm": {
     "is_executing": false,
     "name": "#%%\n"
    }
   },
   "outputs": [],
   "source": [
    "m.add_transition(occ.model.follow1(a, b))\n"
   ]
  },
  {
   "cell_type": "markdown",
   "metadata": {
    "pycharm": {
     "name": "#%% md\n"
    }
   },
   "source": [
    "The `add_transition()` method on `UnitModel` will create a place if necessary. IT will also check that the colors and variables required for the transition are available.\n",
    "\n",
    "### Create a medium graph\n",
    "To create a graph medium with three connected nodes ${n_{1} \\longleftrightarrow n_{2} \\longleftrightarrow n_{3}}$.\n"
   ]
  },
  {
   "cell_type": "code",
   "execution_count": 10,
   "metadata": {
    "pycharm": {
     "is_executing": false,
     "name": "#%%\n"
    }
   },
   "outputs": [],
   "source": [
    "import networkx as nx\n",
    "medium_graph = nx.Graph([(0, 1), (1, 2), (2, 3)])\n",
    "\n",
    "\n",
    "### Create the final system model"
   ]
  },
  {
   "cell_type": "markdown",
   "metadata": {
    "pycharm": {
     "name": "#%% md\n"
    }
   },
   "source": [
    "Create the system model by embedding the repeating unit on the medium graph:"
   ]
  },
  {
   "cell_type": "code",
   "execution_count": 11,
   "metadata": {
    "pycharm": {
     "is_executing": false,
     "name": "#%%\n"
    }
   },
   "outputs": [],
   "source": [
    "system_model = occ.model.SystemModel(m, medium_graph, 'three graph')"
   ]
  },
  {
   "cell_type": "markdown",
   "metadata": {
    "pycharm": {
     "name": "#%% md\n"
    }
   },
   "source": [
    "`occ.model.SystemModel` takes a name for the graph which should be taken from the graph itself.\n",
    "\n",
    "## Simulation\n",
    "\n",
    "The `occ.sim` package contains code for simulating a system model."
   ]
  },
  {
   "cell_type": "code",
   "execution_count": 12,
   "metadata": {
    "pycharm": {
     "is_executing": false,
     "name": "#%%\n"
    }
   },
   "outputs": [
    {
     "name": "stderr",
     "output_type": "stream",
     "text": [
      "INFO:root:Using temporary directory:/var/folders/rb/z1vh8mr52xvc_y0yx4bw20jh0000gn/T/tmp2a8ykiqj\n",
      "INFO:root:Calling: '['~/bin/spike exe -f input/conf.spc']' from cwd: /var/folders/rb/z1vh8mr52xvc_y0yx4bw20jh0000gn/T/tmp2a8ykiqj/spike\n",
      "INFO:root:Call to Spike complete\n"
     ]
    },
    {
     "data": {
      "text/plain": [
       "SimulationResult: temporary run"
      ]
     },
     "execution_count": 12,
     "metadata": {},
     "output_type": "execute_result"
    }
   ],
   "source": [
    "import occ.sim\n",
    "sim_args = occ.sim.SimArgs(start=0, stop=5, step=.1, runs=1, repeat_sim=1)\n",
    "sim_result = occ.sim.run_in_tmp(system_model, sim_args)\n",
    "sim_result\n"
   ]
  },
  {
   "cell_type": "markdown",
   "metadata": {
    "pycharm": {
     "name": "#%% md\n"
    }
   },
   "source": [
    "### Managing simulation runs\n",
    "\n",
    "Above we used `occ.sim.run_in_tmp()` to run a simulation. This runs Spike up in a tempoary directory, loads the resulting output and returns an `occ.model.SimulationResult`. Alternatively `occ.sim.run_in_dir(a_dir)` will run the simulation in a given directory, which can be useful for debugging.\n",
    "\n",
    "Most usefully, `occ.sim.run()`, will create a sequentially numbered list of directories for each run within a `basedir`. `basedir` defaults to the top level of the occmodeler repository for now:\n"
   ]
  },
  {
   "cell_type": "code",
   "execution_count": 13,
   "metadata": {
    "pycharm": {
     "is_executing": false,
     "name": "#%% \n"
    }
   },
   "outputs": [
    {
     "data": {
      "text/plain": [
       "'/Users/walton/Documents/DPhil/code/occmodeller/runs'"
      ]
     },
     "execution_count": 13,
     "metadata": {},
     "output_type": "execute_result"
    }
   ],
   "source": [
    "occ.sim.BASEDIR"
   ]
  },
  {
   "cell_type": "code",
   "execution_count": 14,
   "metadata": {
    "pycharm": {
     "is_executing": false,
     "name": "#%%\n"
    }
   },
   "outputs": [
    {
     "name": "stderr",
     "output_type": "stream",
     "text": [
      "INFO:root:Calling: '['~/bin/spike exe -f input/conf.spc']' from cwd: /Users/walton/Documents/DPhil/code/occmodeller/runs/10/spike\n",
      "INFO:root:Call to Spike complete\n"
     ]
    },
    {
     "data": {
      "text/plain": [
       "SimulationResult: run['num']=10"
      ]
     },
     "execution_count": 14,
     "metadata": {},
     "output_type": "execute_result"
    }
   ],
   "source": [
    "occ.sim.run(system_model, sim_args)"
   ]
  },
  {
   "cell_type": "markdown",
   "metadata": {
    "pycharm": {
     "name": "#%% md\n"
    }
   },
   "source": [
    "Finally, if you've used `occ.sim.run_in_tmp()` and seen something interesting the results may be archived by calling `occ.save(sim_result)`, and you load results with `occ.sim.load(run_num)`"
   ]
  },
  {
   "cell_type": "markdown",
   "metadata": {
    "pycharm": {
     "name": "#%% md\n"
    }
   },
   "source": [
    "## Simulation results"
   ]
  },
  {
   "cell_type": "markdown",
   "metadata": {},
   "source": [
    "The scans above return `occ.sim.SimulationResult` object."
   ]
  },
  {
   "cell_type": "markdown",
   "metadata": {
    "pycharm": {
     "name": "#%% md\n"
    }
   },
   "source": [
    "### Raw time series data\n",
    "A time series of place counts and transitions are loaded as pandas data frames:"
   ]
  },
  {
   "cell_type": "code",
   "execution_count": 15,
   "metadata": {
    "pycharm": {
     "name": "#%%\n"
    }
   },
   "outputs": [
    {
     "data": {
      "text/html": [
       "<div>\n",
       "<style scoped>\n",
       "    .dataframe tbody tr th:only-of-type {\n",
       "        vertical-align: middle;\n",
       "    }\n",
       "\n",
       "    .dataframe tbody tr th {\n",
       "        vertical-align: top;\n",
       "    }\n",
       "\n",
       "    .dataframe thead th {\n",
       "        text-align: right;\n",
       "    }\n",
       "</style>\n",
       "<table border=\"1\" class=\"dataframe\">\n",
       "  <thead>\n",
       "    <tr style=\"text-align: right;\">\n",
       "      <th></th>\n",
       "      <th>Time</th>\n",
       "      <th>a</th>\n",
       "      <th>a_0</th>\n",
       "      <th>a_1</th>\n",
       "      <th>a_2</th>\n",
       "      <th>a_3</th>\n",
       "      <th>b</th>\n",
       "      <th>b_0</th>\n",
       "      <th>b_1</th>\n",
       "      <th>b_2</th>\n",
       "      <th>b_3</th>\n",
       "    </tr>\n",
       "  </thead>\n",
       "  <tbody>\n",
       "    <tr>\n",
       "      <th>0</th>\n",
       "      <td>0.0</td>\n",
       "      <td>2</td>\n",
       "      <td>0</td>\n",
       "      <td>1</td>\n",
       "      <td>1</td>\n",
       "      <td>0</td>\n",
       "      <td>1</td>\n",
       "      <td>1</td>\n",
       "      <td>0</td>\n",
       "      <td>0</td>\n",
       "      <td>0</td>\n",
       "    </tr>\n",
       "    <tr>\n",
       "      <th>1</th>\n",
       "      <td>0.1</td>\n",
       "      <td>1</td>\n",
       "      <td>0</td>\n",
       "      <td>0</td>\n",
       "      <td>1</td>\n",
       "      <td>0</td>\n",
       "      <td>2</td>\n",
       "      <td>1</td>\n",
       "      <td>1</td>\n",
       "      <td>0</td>\n",
       "      <td>0</td>\n",
       "    </tr>\n",
       "    <tr>\n",
       "      <th>2</th>\n",
       "      <td>0.2</td>\n",
       "      <td>1</td>\n",
       "      <td>0</td>\n",
       "      <td>0</td>\n",
       "      <td>1</td>\n",
       "      <td>0</td>\n",
       "      <td>2</td>\n",
       "      <td>1</td>\n",
       "      <td>1</td>\n",
       "      <td>0</td>\n",
       "      <td>0</td>\n",
       "    </tr>\n",
       "    <tr>\n",
       "      <th>3</th>\n",
       "      <td>0.3</td>\n",
       "      <td>1</td>\n",
       "      <td>0</td>\n",
       "      <td>0</td>\n",
       "      <td>1</td>\n",
       "      <td>0</td>\n",
       "      <td>2</td>\n",
       "      <td>1</td>\n",
       "      <td>1</td>\n",
       "      <td>0</td>\n",
       "      <td>0</td>\n",
       "    </tr>\n",
       "    <tr>\n",
       "      <th>4</th>\n",
       "      <td>0.4</td>\n",
       "      <td>1</td>\n",
       "      <td>0</td>\n",
       "      <td>0</td>\n",
       "      <td>1</td>\n",
       "      <td>0</td>\n",
       "      <td>2</td>\n",
       "      <td>1</td>\n",
       "      <td>1</td>\n",
       "      <td>0</td>\n",
       "      <td>0</td>\n",
       "    </tr>\n",
       "  </tbody>\n",
       "</table>\n",
       "</div>"
      ],
      "text/plain": [
       "   Time  a  a_0  a_1  a_2  a_3  b  b_0  b_1  b_2  b_3\n",
       "0   0.0  2    0    1    1    0  1    1    0    0    0\n",
       "1   0.1  1    0    0    1    0  2    1    1    0    0\n",
       "2   0.2  1    0    0    1    0  2    1    1    0    0\n",
       "3   0.3  1    0    0    1    0  2    1    1    0    0\n",
       "4   0.4  1    0    0    1    0  2    1    1    0    0"
      ]
     },
     "execution_count": 15,
     "metadata": {},
     "output_type": "execute_result"
    }
   ],
   "source": [
    "(sim_result.raw_places).sort_index(axis=1).head()"
   ]
  },
  {
   "cell_type": "code",
   "execution_count": 16,
   "metadata": {
    "pycharm": {
     "name": "#%%\n"
    }
   },
   "outputs": [
    {
     "data": {
      "text/html": [
       "<div>\n",
       "<style scoped>\n",
       "    .dataframe tbody tr th:only-of-type {\n",
       "        vertical-align: middle;\n",
       "    }\n",
       "\n",
       "    .dataframe tbody tr th {\n",
       "        vertical-align: top;\n",
       "    }\n",
       "\n",
       "    .dataframe thead th {\n",
       "        text-align: right;\n",
       "    }\n",
       "</style>\n",
       "<table border=\"1\" class=\"dataframe\">\n",
       "  <thead>\n",
       "    <tr style=\"text-align: right;\">\n",
       "      <th></th>\n",
       "      <th>Time</th>\n",
       "      <th>f1ab</th>\n",
       "      <th>f1ab_0_1</th>\n",
       "      <th>f1ab_1_0</th>\n",
       "      <th>f1ab_1_2</th>\n",
       "      <th>f1ab_2_1</th>\n",
       "      <th>f1ab_2_3</th>\n",
       "      <th>f1ab_3_2</th>\n",
       "    </tr>\n",
       "  </thead>\n",
       "  <tbody>\n",
       "    <tr>\n",
       "      <th>0</th>\n",
       "      <td>0.0</td>\n",
       "      <td>0</td>\n",
       "      <td>0</td>\n",
       "      <td>0</td>\n",
       "      <td>0</td>\n",
       "      <td>0</td>\n",
       "      <td>0</td>\n",
       "      <td>0</td>\n",
       "    </tr>\n",
       "    <tr>\n",
       "      <th>1</th>\n",
       "      <td>0.1</td>\n",
       "      <td>1</td>\n",
       "      <td>1</td>\n",
       "      <td>0</td>\n",
       "      <td>0</td>\n",
       "      <td>0</td>\n",
       "      <td>0</td>\n",
       "      <td>0</td>\n",
       "    </tr>\n",
       "    <tr>\n",
       "      <th>2</th>\n",
       "      <td>0.2</td>\n",
       "      <td>0</td>\n",
       "      <td>0</td>\n",
       "      <td>0</td>\n",
       "      <td>0</td>\n",
       "      <td>0</td>\n",
       "      <td>0</td>\n",
       "      <td>0</td>\n",
       "    </tr>\n",
       "    <tr>\n",
       "      <th>3</th>\n",
       "      <td>0.3</td>\n",
       "      <td>0</td>\n",
       "      <td>0</td>\n",
       "      <td>0</td>\n",
       "      <td>0</td>\n",
       "      <td>0</td>\n",
       "      <td>0</td>\n",
       "      <td>0</td>\n",
       "    </tr>\n",
       "    <tr>\n",
       "      <th>4</th>\n",
       "      <td>0.4</td>\n",
       "      <td>0</td>\n",
       "      <td>0</td>\n",
       "      <td>0</td>\n",
       "      <td>0</td>\n",
       "      <td>0</td>\n",
       "      <td>0</td>\n",
       "      <td>0</td>\n",
       "    </tr>\n",
       "  </tbody>\n",
       "</table>\n",
       "</div>"
      ],
      "text/plain": [
       "   Time  f1ab  f1ab_0_1  f1ab_1_0  f1ab_1_2  f1ab_2_1  f1ab_2_3  f1ab_3_2\n",
       "0   0.0     0         0         0         0         0         0         0\n",
       "1   0.1     1         1         0         0         0         0         0\n",
       "2   0.2     0         0         0         0         0         0         0\n",
       "3   0.3     0         0         0         0         0         0         0\n",
       "4   0.4     0         0         0         0         0         0         0"
      ]
     },
     "execution_count": 16,
     "metadata": {},
     "output_type": "execute_result"
    }
   ],
   "source": [
    "(sim_result.raw_transitions).sort_index(axis=1).head()"
   ]
  },
  {
   "cell_type": "markdown",
   "metadata": {},
   "source": [
    "### Tidy time series data\n",
    "The `occ.sim.SimulationResult` also include the place and transition data in [tidy](https://en.wikipedia.org/wiki/Tidy_data) form:"
   ]
  },
  {
   "cell_type": "code",
   "execution_count": 17,
   "metadata": {},
   "outputs": [
    {
     "data": {
      "text/html": [
       "<div>\n",
       "<style scoped>\n",
       "    .dataframe tbody tr th:only-of-type {\n",
       "        vertical-align: middle;\n",
       "    }\n",
       "\n",
       "    .dataframe tbody tr th {\n",
       "        vertical-align: top;\n",
       "    }\n",
       "\n",
       "    .dataframe thead th {\n",
       "        text-align: right;\n",
       "    }\n",
       "</style>\n",
       "<table border=\"1\" class=\"dataframe\">\n",
       "  <thead>\n",
       "    <tr style=\"text-align: right;\">\n",
       "      <th></th>\n",
       "      <th>tstep</th>\n",
       "      <th>time</th>\n",
       "      <th>type</th>\n",
       "      <th>name</th>\n",
       "      <th>num</th>\n",
       "      <th>count</th>\n",
       "    </tr>\n",
       "  </thead>\n",
       "  <tbody>\n",
       "    <tr>\n",
       "      <th>50</th>\n",
       "      <td>0</td>\n",
       "      <td>0.0</td>\n",
       "      <td>place</td>\n",
       "      <td>a</td>\n",
       "      <td>3.0</td>\n",
       "      <td>0</td>\n",
       "    </tr>\n",
       "    <tr>\n",
       "      <th>51</th>\n",
       "      <td>1</td>\n",
       "      <td>0.1</td>\n",
       "      <td>place</td>\n",
       "      <td>a</td>\n",
       "      <td>3.0</td>\n",
       "      <td>0</td>\n",
       "    </tr>\n",
       "    <tr>\n",
       "      <th>52</th>\n",
       "      <td>2</td>\n",
       "      <td>0.2</td>\n",
       "      <td>place</td>\n",
       "      <td>a</td>\n",
       "      <td>3.0</td>\n",
       "      <td>0</td>\n",
       "    </tr>\n",
       "    <tr>\n",
       "      <th>53</th>\n",
       "      <td>3</td>\n",
       "      <td>0.3</td>\n",
       "      <td>place</td>\n",
       "      <td>a</td>\n",
       "      <td>3.0</td>\n",
       "      <td>0</td>\n",
       "    </tr>\n",
       "    <tr>\n",
       "      <th>54</th>\n",
       "      <td>4</td>\n",
       "      <td>0.4</td>\n",
       "      <td>place</td>\n",
       "      <td>a</td>\n",
       "      <td>3.0</td>\n",
       "      <td>0</td>\n",
       "    </tr>\n",
       "  </tbody>\n",
       "</table>\n",
       "</div>"
      ],
      "text/plain": [
       "    tstep  time   type name  num  count\n",
       "50      0   0.0  place    a  3.0      0\n",
       "51      1   0.1  place    a  3.0      0\n",
       "52      2   0.2  place    a  3.0      0\n",
       "53      3   0.3  place    a  3.0      0\n",
       "54      4   0.4  place    a  3.0      0"
      ]
     },
     "execution_count": 17,
     "metadata": {},
     "output_type": "execute_result"
    }
   ],
   "source": [
    "(sim_result.places).head()"
   ]
  },
  {
   "cell_type": "code",
   "execution_count": 18,
   "metadata": {},
   "outputs": [
    {
     "data": {
      "text/html": [
       "<div>\n",
       "<style scoped>\n",
       "    .dataframe tbody tr th:only-of-type {\n",
       "        vertical-align: middle;\n",
       "    }\n",
       "\n",
       "    .dataframe tbody tr th {\n",
       "        vertical-align: top;\n",
       "    }\n",
       "\n",
       "    .dataframe thead th {\n",
       "        text-align: right;\n",
       "    }\n",
       "</style>\n",
       "<table border=\"1\" class=\"dataframe\">\n",
       "  <thead>\n",
       "    <tr style=\"text-align: right;\">\n",
       "      <th></th>\n",
       "      <th>tstep</th>\n",
       "      <th>time</th>\n",
       "      <th>type</th>\n",
       "      <th>name</th>\n",
       "      <th>unit</th>\n",
       "      <th>neighbour</th>\n",
       "      <th>neighbour2</th>\n",
       "      <th>count</th>\n",
       "    </tr>\n",
       "  </thead>\n",
       "  <tbody>\n",
       "    <tr>\n",
       "      <th>50</th>\n",
       "      <td>0</td>\n",
       "      <td>0.0</td>\n",
       "      <td>transition</td>\n",
       "      <td>f1ab</td>\n",
       "      <td>2.0</td>\n",
       "      <td>1.0</td>\n",
       "      <td>NaN</td>\n",
       "      <td>0</td>\n",
       "    </tr>\n",
       "    <tr>\n",
       "      <th>51</th>\n",
       "      <td>1</td>\n",
       "      <td>0.1</td>\n",
       "      <td>transition</td>\n",
       "      <td>f1ab</td>\n",
       "      <td>2.0</td>\n",
       "      <td>1.0</td>\n",
       "      <td>NaN</td>\n",
       "      <td>0</td>\n",
       "    </tr>\n",
       "    <tr>\n",
       "      <th>52</th>\n",
       "      <td>2</td>\n",
       "      <td>0.2</td>\n",
       "      <td>transition</td>\n",
       "      <td>f1ab</td>\n",
       "      <td>2.0</td>\n",
       "      <td>1.0</td>\n",
       "      <td>NaN</td>\n",
       "      <td>0</td>\n",
       "    </tr>\n",
       "    <tr>\n",
       "      <th>53</th>\n",
       "      <td>3</td>\n",
       "      <td>0.3</td>\n",
       "      <td>transition</td>\n",
       "      <td>f1ab</td>\n",
       "      <td>2.0</td>\n",
       "      <td>1.0</td>\n",
       "      <td>NaN</td>\n",
       "      <td>0</td>\n",
       "    </tr>\n",
       "    <tr>\n",
       "      <th>54</th>\n",
       "      <td>4</td>\n",
       "      <td>0.4</td>\n",
       "      <td>transition</td>\n",
       "      <td>f1ab</td>\n",
       "      <td>2.0</td>\n",
       "      <td>1.0</td>\n",
       "      <td>NaN</td>\n",
       "      <td>0</td>\n",
       "    </tr>\n",
       "  </tbody>\n",
       "</table>\n",
       "</div>"
      ],
      "text/plain": [
       "    tstep  time        type  name  unit  neighbour  neighbour2  count\n",
       "50      0   0.0  transition  f1ab   2.0        1.0         NaN      0\n",
       "51      1   0.1  transition  f1ab   2.0        1.0         NaN      0\n",
       "52      2   0.2  transition  f1ab   2.0        1.0         NaN      0\n",
       "53      3   0.3  transition  f1ab   2.0        1.0         NaN      0\n",
       "54      4   0.4  transition  f1ab   2.0        1.0         NaN      0"
      ]
     },
     "execution_count": 18,
     "metadata": {},
     "output_type": "execute_result"
    }
   ],
   "source": [
    "(sim_result.transitions).head()"
   ]
  },
  {
   "cell_type": "markdown",
   "metadata": {
    "pycharm": {
     "name": "#%% md\n"
    }
   },
   "source": [
    "## Data reduction\n",
    "The `occ.reduction` package includes functions for loading and reducing the data from a simulation run."
   ]
  },
  {
   "cell_type": "code",
   "execution_count": 19,
   "metadata": {},
   "outputs": [
    {
     "data": {
      "text/html": [
       "<div>\n",
       "<style scoped>\n",
       "    .dataframe tbody tr th:only-of-type {\n",
       "        vertical-align: middle;\n",
       "    }\n",
       "\n",
       "    .dataframe tbody tr th {\n",
       "        vertical-align: top;\n",
       "    }\n",
       "\n",
       "    .dataframe thead th {\n",
       "        text-align: right;\n",
       "    }\n",
       "</style>\n",
       "<table border=\"1\" class=\"dataframe\">\n",
       "  <thead>\n",
       "    <tr style=\"text-align: right;\">\n",
       "      <th></th>\n",
       "      <th>tstep</th>\n",
       "      <th>time</th>\n",
       "      <th>type</th>\n",
       "      <th>name</th>\n",
       "      <th>num</th>\n",
       "    </tr>\n",
       "  </thead>\n",
       "  <tbody>\n",
       "    <tr>\n",
       "      <th>100</th>\n",
       "      <td>0</td>\n",
       "      <td>0.0</td>\n",
       "      <td>place</td>\n",
       "      <td>a</td>\n",
       "      <td>1</td>\n",
       "    </tr>\n",
       "    <tr>\n",
       "      <th>200</th>\n",
       "      <td>0</td>\n",
       "      <td>0.0</td>\n",
       "      <td>place</td>\n",
       "      <td>a</td>\n",
       "      <td>2</td>\n",
       "    </tr>\n",
       "    <tr>\n",
       "      <th>300</th>\n",
       "      <td>0</td>\n",
       "      <td>0.0</td>\n",
       "      <td>place</td>\n",
       "      <td>b</td>\n",
       "      <td>0</td>\n",
       "    </tr>\n",
       "    <tr>\n",
       "      <th>351</th>\n",
       "      <td>1</td>\n",
       "      <td>0.1</td>\n",
       "      <td>place</td>\n",
       "      <td>b</td>\n",
       "      <td>1</td>\n",
       "    </tr>\n",
       "    <tr>\n",
       "      <th>430</th>\n",
       "      <td>30</td>\n",
       "      <td>3.0</td>\n",
       "      <td>place</td>\n",
       "      <td>b</td>\n",
       "      <td>2</td>\n",
       "    </tr>\n",
       "  </tbody>\n",
       "</table>\n",
       "</div>"
      ],
      "text/plain": [
       "     tstep  time   type name  num\n",
       "100      0   0.0  place    a    1\n",
       "200      0   0.0  place    a    2\n",
       "300      0   0.0  place    b    0\n",
       "351      1   0.1  place    b    1\n",
       "430     30   3.0  place    b    2"
      ]
     },
     "execution_count": 19,
     "metadata": {},
     "output_type": "execute_result"
    }
   ],
   "source": [
    "import occ.reduction\n",
    "place_change_events = occ.reduction.generate_place_increased_events(sim_result.places)\n",
    "place_change_events"
   ]
  },
  {
   "cell_type": "code",
   "execution_count": 20,
   "metadata": {},
   "outputs": [
    {
     "data": {
      "text/html": [
       "<div>\n",
       "<style scoped>\n",
       "    .dataframe tbody tr th:only-of-type {\n",
       "        vertical-align: middle;\n",
       "    }\n",
       "\n",
       "    .dataframe tbody tr th {\n",
       "        vertical-align: top;\n",
       "    }\n",
       "\n",
       "    .dataframe thead th {\n",
       "        text-align: right;\n",
       "    }\n",
       "</style>\n",
       "<table border=\"1\" class=\"dataframe\">\n",
       "  <thead>\n",
       "    <tr style=\"text-align: right;\">\n",
       "      <th></th>\n",
       "      <th>tstep</th>\n",
       "      <th>time</th>\n",
       "      <th>type</th>\n",
       "      <th>name</th>\n",
       "      <th>unit</th>\n",
       "      <th>neighbour</th>\n",
       "      <th>neighbour2</th>\n",
       "      <th>count</th>\n",
       "    </tr>\n",
       "  </thead>\n",
       "  <tbody>\n",
       "    <tr>\n",
       "      <th>201</th>\n",
       "      <td>1</td>\n",
       "      <td>0.1</td>\n",
       "      <td>transition</td>\n",
       "      <td>f1ab</td>\n",
       "      <td>1.0</td>\n",
       "      <td>0.0</td>\n",
       "      <td>NaN</td>\n",
       "      <td>1</td>\n",
       "    </tr>\n",
       "    <tr>\n",
       "      <th>80</th>\n",
       "      <td>30</td>\n",
       "      <td>3.0</td>\n",
       "      <td>transition</td>\n",
       "      <td>f1ab</td>\n",
       "      <td>2.0</td>\n",
       "      <td>1.0</td>\n",
       "      <td>NaN</td>\n",
       "      <td>1</td>\n",
       "    </tr>\n",
       "  </tbody>\n",
       "</table>\n",
       "</div>"
      ],
      "text/plain": [
       "     tstep  time        type  name  unit  neighbour  neighbour2  count\n",
       "201      1   0.1  transition  f1ab   1.0        0.0         NaN      1\n",
       "80      30   3.0  transition  f1ab   2.0        1.0         NaN      1"
      ]
     },
     "execution_count": 20,
     "metadata": {},
     "output_type": "execute_result"
    }
   ],
   "source": [
    "transition_events = occ.reduction.generate_transition_events(sim_result.transitions)\n",
    "transition_events"
   ]
  },
  {
   "cell_type": "code",
   "execution_count": 22,
   "metadata": {
    "pycharm": {
     "name": "#%%\n"
    }
   },
   "outputs": [
    {
     "data": {
      "text/plain": [
       "<networkx.classes.digraph.DiGraph at 0x117820c88>"
      ]
     },
     "execution_count": 22,
     "metadata": {},
     "output_type": "execute_result"
    }
   ],
   "source": [
    "occasion_graph = occ.reduction.generate_causal_graph(\n",
    "        place_change_events, transition_events, time_per_step=sim_result.sim_args.step)\n",
    "occasion_graph"
   ]
  },
  {
   "cell_type": "code",
   "execution_count": 28,
   "metadata": {},
   "outputs": [
    {
     "data": {
      "image/png": "[encoded data removed]",
      "text/plain": [
       "<Figure size 432x288 with 1 Axes>"
      ]
     },
     "metadata": {},
     "output_type": "display_data"
    }
   ],
   "source": [
    "import networkx as nx\n",
    "nx.draw(occasion_graph, with_labels=True)"
   ]
  },
  {
   "cell_type": "markdown",
   "metadata": {},
   "source": [
    "## Visualisation"
   ]
  },
  {
   "cell_type": "code",
   "execution_count": 20,
   "metadata": {},
   "outputs": [
    {
     "data": {
      "text/html": [
       "<script type=\"text/javascript\">window.PlotlyConfig = {MathJaxConfig: 'local'};</script><script type=\"text/javascript\">if (window.MathJax) {MathJax.Hub.Config({SVG: {font: \"STIX-Web\"}});}</script><script>requirejs.config({paths: { 'plotly': ['https://cdn.plot.ly/plotly-latest.min']},});if(!window._Plotly) {require(['plotly'],function(plotly) {window._Plotly=plotly;});}</script>"
      ],
      "text/vnd.plotly.v1+html": [
       "<script type=\"text/javascript\">window.PlotlyConfig = {MathJaxConfig: 'local'};</script><script type=\"text/javascript\">if (window.MathJax) {MathJax.Hub.Config({SVG: {font: \"STIX-Web\"}});}</script><script>requirejs.config({paths: { 'plotly': ['https://cdn.plot.ly/plotly-latest.min']},});if(!window._Plotly) {require(['plotly'],function(plotly) {window._Plotly=plotly;});}</script>"
      ]
     },
     "metadata": {},
     "output_type": "display_data"
    },
    {
     "data": {
      "application/vnd.plotly.v1+json": {
       "config": {
        "linkText": "Export to plot.ly",
        "plotlyServerURL": "https://plot.ly",
        "showLink": false
       },
       "data": [
        {
         "hoverinfo": "none",
         "line": {
          "color": "#888"
         },
         "mode": "lines",
         "name": "M",
         "type": "scatter3d",
         "uid": "828378a3-e545-4b94-a1b0-384fd697158f",
         "x": [
          0.8957198890033776,
          0.3178879574273504,
          null,
          0.3178879574273504,
          -0.3177639921108332,
          null,
          -0.3177639921108332,
          -0.8958438543198946,
          null
         ],
         "y": [
          -0.9999131585771595,
          -0.3548330097943594,
          null,
          -0.3548330097943594,
          0.3547461683715187,
          null,
          0.3547461683715187,
          1,
          null
         ],
         "z": [
          0,
          0,
          null,
          0,
          0,
          null,
          0,
          0,
          null
         ]
        },
        {
         "hoverinfo": "text",
         "marker": {
          "color": "rgb(55,126,184)",
          "opacity": 0.5
         },
         "mode": "markers",
         "name": "a",
         "text": [
          "a1@0.0",
          "a2@0.0"
         ],
         "type": "scatter3d",
         "uid": "5d5fd9b2-ad89-4bd9-ac21-59845347a449",
         "x": [
          0.3178879574273504,
          -0.3177639921108332
         ],
         "y": [
          -0.3548330097943594,
          0.3547461683715187
         ],
         "z": [
          0,
          0
         ]
        },
        {
         "hoverinfo": "text",
         "marker": {
          "color": "rgb(228,26,28)",
          "opacity": 0.5
         },
         "mode": "markers",
         "name": "b",
         "text": [
          "b0@0.0",
          "b1@0.5",
          "b2@2.3"
         ],
         "type": "scatter3d",
         "uid": "f06a373e-0381-4749-8595-e9869bcfb4be",
         "x": [
          0.8957198890033776,
          0.3178879574273504,
          -0.3177639921108332
         ],
         "y": [
          -0.9999131585771595,
          -0.3548330097943594,
          0.3547461683715187
         ],
         "z": [
          0,
          0.5,
          2.3
         ]
        },
        {
         "hoverinfo": "none",
         "line": {
          "color": "rgb(55,126,184)",
          "dash": "dot"
         },
         "mode": "lines",
         "name": "a",
         "type": "scatter3d",
         "uid": "19beba64-95a3-49bb-9af6-27aac74a63f0",
         "x": [
          null,
          0.3178879574273504,
          0.3178879574273504,
          0.3178879574273504,
          0.3178879574273503,
          0.3178879574273504,
          0.31788795742735043,
          0.3178879574273504,
          0.3178879574273504,
          0.3178879574273504,
          0.31788795742735043,
          0.3178879574273504,
          0.3178879574273503,
          0.31788795742735043,
          0.3178879574273504,
          0.31788795742735043,
          0.3178879574273504,
          0.3178879574273504,
          0.3178879574273504,
          0.3178879574273504,
          0.3178879574273504,
          null,
          -0.3177639921108332,
          -0.31776399211083334,
          -0.3177639921108332,
          -0.3177639921108331,
          -0.3177639921108333,
          -0.3177639921108333,
          -0.3177639921108332,
          -0.31776399211083317,
          -0.3177639921108332,
          -0.3177639921108333,
          -0.3177639921108332,
          -0.31776399211083317,
          -0.3177639921108332,
          -0.31776399211083317,
          -0.3177639921108332,
          -0.3177639921108333,
          -0.31776399211083317,
          -0.3177639921108332,
          -0.3177639921108332,
          -0.3177639921108332
         ],
         "y": [
          null,
          -0.3548330097943594,
          -0.35483300979435944,
          -0.35483300979435944,
          -0.3548330097943593,
          -0.35483300979435944,
          -0.35483300979435944,
          -0.35483300979435944,
          -0.35483300979435933,
          -0.35483300979435933,
          -0.35483300979435944,
          -0.3548330097943594,
          -0.35483300979435933,
          -0.3548330097943594,
          -0.3548330097943594,
          -0.3548330097943594,
          -0.3548330097943594,
          -0.3548330097943594,
          -0.3548330097943594,
          -0.3548330097943594,
          -0.3548330097943594,
          null,
          0.3547461683715187,
          0.3547461683715187,
          0.35474616837151873,
          0.35474616837151857,
          0.3547461683715187,
          0.3547461683715188,
          0.35474616837151873,
          0.3547461683715186,
          0.3547461683715186,
          0.35474616837151873,
          0.3547461683715187,
          0.3547461683715187,
          0.3547461683715187,
          0.3547461683715187,
          0.35474616837151873,
          0.3547461683715187,
          0.3547461683715186,
          0.3547461683715186,
          0.3547461683715187,
          0.3547461683715187
         ],
         "z": [
          null,
          0,
          7.289692374981774e-05,
          0.0005831753899985419,
          0.0019682169412450793,
          0.0046654031199883355,
          0.009112115468727219,
          0.015745735529960635,
          0.025003644846187487,
          0.037323224959906684,
          0.053141857413617134,
          0.07289692374981775,
          0.09702580551100745,
          0.12596588423968508,
          0.16015454147834954,
          0.2000291587694999,
          0.24602711765563495,
          0.29858579967925347,
          0.3581425863828545,
          0.4251348593089371,
          0.5,
          null,
          0,
          0.0003353258492491616,
          0.0026826067939932927,
          0.009053797929727363,
          0.02146085435194634,
          0.041915731156145206,
          0.07243038343781891,
          0.11501676629246244,
          0.17168683481557073,
          0.2444525441026388,
          0.33532584924916164,
          0.4463187053506342,
          0.5794430675025513,
          0.7367108908004079,
          0.9201341303396995,
          1.1317247412159206,
          1.3734946785245659,
          1.6474558973611306,
          1.9556203528211105,
          2.3
         ]
        },
        {
         "hoverinfo": "none",
         "line": {
          "color": "rgb(55,126,184)"
         },
         "mode": "lines",
         "name": "a",
         "type": "scatter3d",
         "uid": "7bb9fbaf-acf0-4444-b3d1-6f8ad03f57a8",
         "x": [],
         "y": [],
         "z": []
        },
        {
         "hoverinfo": "none",
         "line": {
          "color": "rgb(228,26,28)",
          "dash": "dot"
         },
         "mode": "lines",
         "name": "b",
         "type": "scatter3d",
         "uid": "40882434-a080-454a-86e2-c7ac23e3c5f4",
         "x": [],
         "y": [],
         "z": []
        },
        {
         "hoverinfo": "none",
         "line": {
          "color": "rgb(228,26,28)"
         },
         "mode": "lines",
         "name": "b",
         "type": "scatter3d",
         "uid": "f7d355ad-15f4-4b14-a9c1-6bee2881c17f",
         "x": [
          null,
          0.8957198890033776,
          0.8092009512969222,
          0.7317804023658286,
          0.6629527761670219,
          0.6022126066574265,
          0.5490544277939664,
          0.5029727735335658,
          0.4634621778331493,
          0.4300171746496412,
          0.40213229793996563,
          0.37930208166104684,
          0.36102105976980925,
          0.3467837662231774,
          0.33608473497807523,
          0.32841849999142725,
          0.3232795952201577,
          0.320162554621191,
          0.3185619121514513,
          0.317972201767863,
          0.3178879574273504,
          null,
          0.3178879574273504,
          0.22271161216190144,
          0.13754407438298455,
          0.061829299230236896,
          -0.004988758156704373,
          -0.06346614263820227,
          -0.11415889907461958,
          -0.15762307232631925,
          -0.19441470725366417,
          -0.22508984871701732,
          -0.2502045415767414,
          -0.27031483069319945,
          -0.2859767609267544,
          -0.29774637713776897,
          -0.3061797241866062,
          -0.311832846933629,
          -0.3152617902392002,
          -0.3170225989636827,
          -0.3176713179674394,
          -0.3177639921108332
         ],
         "y": [
          null,
          -0.9999131585771595,
          -0.9033251263858875,
          -0.8168943556129769,
          -0.7400565539574077,
          -0.6722474291181603,
          -0.6129026887942143,
          -0.5614580406845492,
          -0.5173491924881454,
          -0.48001185190398277,
          -0.44888172663104126,
          -0.4233945243683004,
          -0.4029859528147404,
          -0.3870917196693413,
          -0.3751475326310827,
          -0.36658909939894463,
          -0.360852127671907,
          -0.3573723251489498,
          -0.3555853995290529,
          -0.3549270585111961,
          -0.3548330097943594,
          null,
          -0.3548330097943594,
          -0.24858751978468507,
          -0.15351487585197732,
          -0.06899436432529374,
          0.005594728466308202,
          0.07087311619377128,
          0.12746151252803797,
          0.1759806311400509,
          0.21705118570075269,
          0.2512938898810859,
          0.2793294573519932,
          0.3017786017844171,
          0.31926203684930027,
          0.3324004762175852,
          0.3418146335602146,
          0.348125222548131,
          0.35195295685227695,
          0.3539185501435952,
          0.3546427160930283,
          0.3547461683715187
         ],
         "z": [
          null,
          0,
          7.289692374981774e-05,
          0.0005831753899985419,
          0.0019682169412450793,
          0.0046654031199883355,
          0.009112115468727219,
          0.015745735529960635,
          0.025003644846187487,
          0.037323224959906684,
          0.053141857413617134,
          0.07289692374981775,
          0.09702580551100745,
          0.12596588423968508,
          0.16015454147834954,
          0.2000291587694999,
          0.24602711765563495,
          0.29858579967925347,
          0.3581425863828545,
          0.4251348593089371,
          0.5,
          null,
          0.5,
          0.5002624289254994,
          0.5020994314039948,
          0.5070855809884822,
          0.516795451231958,
          0.5328036156874181,
          0.5566846479078583,
          0.5900131214462749,
          0.634363609855664,
          0.6913106866890218,
          0.7624289254993439,
          0.8492928998396267,
          0.9534771832628662,
          1.0765563493220585,
          1.2201049715701995,
          1.3856976235602856,
          1.5749088788453123,
          1.7893133109782762,
          2.0304854935121734,
          2.3
         ]
        }
       ],
       "layout": {
        "autosize": true,
        "hovermode": "closest",
        "scene": {
         "aspectmode": "auto",
         "aspectratio": {
          "x": 0.8869691578886675,
          "y": 0.990118993379054,
          "z": 1.1386862849544894
         },
         "camera": {
          "center": {
           "x": 0,
           "y": 0,
           "z": 0
          },
          "eye": {
           "x": 1.8935276793282303,
           "y": 0.5524520506212919,
           "z": 0.23486848644493877
          },
          "projection": {
           "type": "perspective"
          },
          "up": {
           "x": 0,
           "y": 0,
           "z": 1
          }
         },
         "xaxis": {
          "autorange": true,
          "showgrid": false,
          "showline": false,
          "showspikes": false,
          "showticklabels": false,
          "ticks": "",
          "title": {
           "text": ""
          },
          "type": "linear",
          "zeroline": false
         },
         "yaxis": {
          "autorange": true,
          "showgrid": false,
          "showline": false,
          "showspikes": false,
          "showticklabels": false,
          "ticks": "",
          "title": {
           "text": ""
          },
          "type": "linear",
          "zeroline": false
         },
         "zaxis": {
          "autorange": true,
          "showgrid": false,
          "showline": false,
          "showspikes": false,
          "showticklabels": false,
          "ticks": "",
          "title": {
           "text": ""
          },
          "type": "linear",
          "zeroline": false
         }
        },
        "title": {
         "text": "Temporal graph"
        }
       }
      },
      "image/png": "[encoded data removed]",
      "text/html": [
       "<div id=\"a39a136b-96a0-46dc-abd0-96609adb69c6\" style=\"height: 525px; width: 100%;\" class=\"plotly-graph-div\"></div><script type=\"text/javascript\">require([\"plotly\"], function(Plotly) { window.PLOTLYENV=window.PLOTLYENV || {};window.PLOTLYENV.BASE_URL=\"https://plot.ly\";Plotly.newPlot(\"a39a136b-96a0-46dc-abd0-96609adb69c6\", [{\"hoverinfo\": \"none\", \"line\": {\"color\": \"#888\"}, \"mode\": \"lines\", \"name\": \"M\", \"x\": [0.8957198890033776, 0.3178879574273504, null, 0.3178879574273504, -0.3177639921108332, null, -0.3177639921108332, -0.8958438543198946, null], \"y\": [-0.9999131585771595, -0.3548330097943594, null, -0.3548330097943594, 0.3547461683715187, null, 0.3547461683715187, 1.0, null], \"z\": [0, 0, null, 0, 0, null, 0, 0, null], \"type\": \"scatter3d\", \"uid\": \"828378a3-e545-4b94-a1b0-384fd697158f\"}, {\"hoverinfo\": \"text\", \"marker\": {\"color\": \"rgb(55,126,184)\", \"opacity\": 0.5}, \"mode\": \"markers\", \"name\": \"a\", \"text\": [\"a1@0.0\", \"a2@0.0\"], \"x\": [0.3178879574273504, -0.3177639921108332], \"y\": [-0.3548330097943594, 0.3547461683715187], \"z\": [0.0, 0.0], \"type\": \"scatter3d\", \"uid\": \"5d5fd9b2-ad89-4bd9-ac21-59845347a449\"}, {\"hoverinfo\": \"text\", \"marker\": {\"color\": \"rgb(228,26,28)\", \"opacity\": 0.5}, \"mode\": \"markers\", \"name\": \"b\", \"text\": [\"b0@0.0\", \"b1@0.5\", \"b2@2.3\"], \"x\": [0.8957198890033776, 0.3178879574273504, -0.3177639921108332], \"y\": [-0.9999131585771595, -0.3548330097943594, 0.3547461683715187], \"z\": [0.0, 0.5, 2.3], \"type\": \"scatter3d\", \"uid\": \"f06a373e-0381-4749-8595-e9869bcfb4be\"}, {\"hoverinfo\": \"none\", \"line\": {\"color\": \"rgb(55,126,184)\", \"dash\": \"dot\"}, \"mode\": \"lines\", \"name\": \"a\", \"x\": [null, 0.3178879574273504, 0.3178879574273504, 0.3178879574273504, 0.3178879574273503, 0.3178879574273504, 0.31788795742735043, 0.3178879574273504, 0.3178879574273504, 0.3178879574273504, 0.31788795742735043, 0.3178879574273504, 0.3178879574273503, 0.31788795742735043, 0.3178879574273504, 0.31788795742735043, 0.3178879574273504, 0.3178879574273504, 0.3178879574273504, 0.3178879574273504, 0.3178879574273504, null, -0.3177639921108332, -0.31776399211083334, -0.3177639921108332, -0.3177639921108331, -0.3177639921108333, -0.3177639921108333, -0.3177639921108332, -0.31776399211083317, -0.3177639921108332, -0.3177639921108333, -0.3177639921108332, -0.31776399211083317, -0.3177639921108332, -0.31776399211083317, -0.3177639921108332, -0.3177639921108333, -0.31776399211083317, -0.3177639921108332, -0.3177639921108332, -0.3177639921108332], \"y\": [null, -0.3548330097943594, -0.35483300979435944, -0.35483300979435944, -0.3548330097943593, -0.35483300979435944, -0.35483300979435944, -0.35483300979435944, -0.35483300979435933, -0.35483300979435933, -0.35483300979435944, -0.3548330097943594, -0.35483300979435933, -0.3548330097943594, -0.3548330097943594, -0.3548330097943594, -0.3548330097943594, -0.3548330097943594, -0.3548330097943594, -0.3548330097943594, -0.3548330097943594, null, 0.3547461683715187, 0.3547461683715187, 0.35474616837151873, 0.35474616837151857, 0.3547461683715187, 0.3547461683715188, 0.35474616837151873, 0.3547461683715186, 0.3547461683715186, 0.35474616837151873, 0.3547461683715187, 0.3547461683715187, 0.3547461683715187, 0.3547461683715187, 0.35474616837151873, 0.3547461683715187, 0.3547461683715186, 0.3547461683715186, 0.3547461683715187, 0.3547461683715187], \"z\": [null, 0.0, 7.289692374981774e-05, 0.0005831753899985419, 0.0019682169412450793, 0.0046654031199883355, 0.009112115468727219, 0.015745735529960635, 0.025003644846187487, 0.037323224959906684, 0.053141857413617134, 0.07289692374981775, 0.09702580551100745, 0.12596588423968508, 0.16015454147834954, 0.2000291587694999, 0.24602711765563495, 0.29858579967925347, 0.3581425863828545, 0.4251348593089371, 0.5, null, 0.0, 0.0003353258492491616, 0.0026826067939932927, 0.009053797929727363, 0.02146085435194634, 0.041915731156145206, 0.07243038343781891, 0.11501676629246244, 0.17168683481557073, 0.2444525441026388, 0.33532584924916164, 0.4463187053506342, 0.5794430675025513, 0.7367108908004079, 0.9201341303396995, 1.1317247412159206, 1.3734946785245659, 1.6474558973611306, 1.9556203528211105, 2.3], \"type\": \"scatter3d\", \"uid\": \"19beba64-95a3-49bb-9af6-27aac74a63f0\"}, {\"hoverinfo\": \"none\", \"line\": {\"color\": \"rgb(55,126,184)\"}, \"mode\": \"lines\", \"name\": \"a\", \"x\": [], \"y\": [], \"z\": [], \"type\": \"scatter3d\", \"uid\": \"7bb9fbaf-acf0-4444-b3d1-6f8ad03f57a8\"}, {\"hoverinfo\": \"none\", \"line\": {\"color\": \"rgb(228,26,28)\", \"dash\": \"dot\"}, \"mode\": \"lines\", \"name\": \"b\", \"x\": [], \"y\": [], \"z\": [], \"type\": \"scatter3d\", \"uid\": \"40882434-a080-454a-86e2-c7ac23e3c5f4\"}, {\"hoverinfo\": \"none\", \"line\": {\"color\": \"rgb(228,26,28)\"}, \"mode\": \"lines\", \"name\": \"b\", \"x\": [null, 0.8957198890033776, 0.8092009512969222, 0.7317804023658286, 0.6629527761670219, 0.6022126066574265, 0.5490544277939664, 0.5029727735335658, 0.4634621778331493, 0.4300171746496412, 0.40213229793996563, 0.37930208166104684, 0.36102105976980925, 0.3467837662231774, 0.33608473497807523, 0.32841849999142725, 0.3232795952201577, 0.320162554621191, 0.3185619121514513, 0.317972201767863, 0.3178879574273504, null, 0.3178879574273504, 0.22271161216190144, 0.13754407438298455, 0.061829299230236896, -0.004988758156704373, -0.06346614263820227, -0.11415889907461958, -0.15762307232631925, -0.19441470725366417, -0.22508984871701732, -0.2502045415767414, -0.27031483069319945, -0.2859767609267544, -0.29774637713776897, -0.3061797241866062, -0.311832846933629, -0.3152617902392002, -0.3170225989636827, -0.3176713179674394, -0.3177639921108332], \"y\": [null, -0.9999131585771595, -0.9033251263858875, -0.8168943556129769, -0.7400565539574077, -0.6722474291181603, -0.6129026887942143, -0.5614580406845492, -0.5173491924881454, -0.48001185190398277, -0.44888172663104126, -0.4233945243683004, -0.4029859528147404, -0.3870917196693413, -0.3751475326310827, -0.36658909939894463, -0.360852127671907, -0.3573723251489498, -0.3555853995290529, -0.3549270585111961, -0.3548330097943594, null, -0.3548330097943594, -0.24858751978468507, -0.15351487585197732, -0.06899436432529374, 0.005594728466308202, 0.07087311619377128, 0.12746151252803797, 0.1759806311400509, 0.21705118570075269, 0.2512938898810859, 0.2793294573519932, 0.3017786017844171, 0.31926203684930027, 0.3324004762175852, 0.3418146335602146, 0.348125222548131, 0.35195295685227695, 0.3539185501435952, 0.3546427160930283, 0.3547461683715187], \"z\": [null, 0.0, 7.289692374981774e-05, 0.0005831753899985419, 0.0019682169412450793, 0.0046654031199883355, 0.009112115468727219, 0.015745735529960635, 0.025003644846187487, 0.037323224959906684, 0.053141857413617134, 0.07289692374981775, 0.09702580551100745, 0.12596588423968508, 0.16015454147834954, 0.2000291587694999, 0.24602711765563495, 0.29858579967925347, 0.3581425863828545, 0.4251348593089371, 0.5, null, 0.5, 0.5002624289254994, 0.5020994314039948, 0.5070855809884822, 0.516795451231958, 0.5328036156874181, 0.5566846479078583, 0.5900131214462749, 0.634363609855664, 0.6913106866890218, 0.7624289254993439, 0.8492928998396267, 0.9534771832628662, 1.0765563493220585, 1.2201049715701995, 1.3856976235602856, 1.5749088788453123, 1.7893133109782762, 2.0304854935121734, 2.3], \"type\": \"scatter3d\", \"uid\": \"f7d355ad-15f4-4b14-a9c1-6bee2881c17f\"}], {\"hovermode\": \"closest\", \"scene\": {\"xaxis\": {\"autorange\": true, \"showgrid\": false, \"showline\": false, \"showspikes\": false, \"showticklabels\": false, \"ticks\": \"\", \"title\": {\"text\": \"\"}, \"zeroline\": false}, \"yaxis\": {\"autorange\": true, \"showgrid\": false, \"showline\": false, \"showspikes\": false, \"showticklabels\": false, \"ticks\": \"\", \"title\": {\"text\": \"\"}, \"zeroline\": false}, \"zaxis\": {\"autorange\": true, \"showgrid\": false, \"showline\": false, \"showspikes\": false, \"showticklabels\": false, \"ticks\": \"\", \"title\": {\"text\": \"\"}, \"zeroline\": false}}, \"title\": {\"text\": \"Temporal graph\"}}, {\"showLink\": false, \"linkText\": \"Export to plot.ly\", \"plotlyServerURL\": \"https://plot.ly\"})});</script><script type=\"text/javascript\">window.addEventListener(\"resize\", function(){window._Plotly.Plots.resize(document.getElementById(\"a39a136b-96a0-46dc-abd0-96609adb69c6\"));});</script>"
      ],
      "text/vnd.plotly.v1+html": [
       "<div id=\"a39a136b-96a0-46dc-abd0-96609adb69c6\" style=\"height: 525px; width: 100%;\" class=\"plotly-graph-div\"></div><script type=\"text/javascript\">require([\"plotly\"], function(Plotly) { window.PLOTLYENV=window.PLOTLYENV || {};window.PLOTLYENV.BASE_URL=\"https://plot.ly\";Plotly.newPlot(\"a39a136b-96a0-46dc-abd0-96609adb69c6\", [{\"hoverinfo\": \"none\", \"line\": {\"color\": \"#888\"}, \"mode\": \"lines\", \"name\": \"M\", \"x\": [0.8957198890033776, 0.3178879574273504, null, 0.3178879574273504, -0.3177639921108332, null, -0.3177639921108332, -0.8958438543198946, null], \"y\": [-0.9999131585771595, -0.3548330097943594, null, -0.3548330097943594, 0.3547461683715187, null, 0.3547461683715187, 1.0, null], \"z\": [0, 0, null, 0, 0, null, 0, 0, null], \"type\": \"scatter3d\", \"uid\": \"828378a3-e545-4b94-a1b0-384fd697158f\"}, {\"hoverinfo\": \"text\", \"marker\": {\"color\": \"rgb(55,126,184)\", \"opacity\": 0.5}, \"mode\": \"markers\", \"name\": \"a\", \"text\": [\"a1@0.0\", \"a2@0.0\"], \"x\": [0.3178879574273504, -0.3177639921108332], \"y\": [-0.3548330097943594, 0.3547461683715187], \"z\": [0.0, 0.0], \"type\": \"scatter3d\", \"uid\": \"5d5fd9b2-ad89-4bd9-ac21-59845347a449\"}, {\"hoverinfo\": \"text\", \"marker\": {\"color\": \"rgb(228,26,28)\", \"opacity\": 0.5}, \"mode\": \"markers\", \"name\": \"b\", \"text\": [\"b0@0.0\", \"b1@0.5\", \"b2@2.3\"], \"x\": [0.8957198890033776, 0.3178879574273504, -0.3177639921108332], \"y\": [-0.9999131585771595, -0.3548330097943594, 0.3547461683715187], \"z\": [0.0, 0.5, 2.3], \"type\": \"scatter3d\", \"uid\": \"f06a373e-0381-4749-8595-e9869bcfb4be\"}, {\"hoverinfo\": \"none\", \"line\": {\"color\": \"rgb(55,126,184)\", \"dash\": \"dot\"}, \"mode\": \"lines\", \"name\": \"a\", \"x\": [null, 0.3178879574273504, 0.3178879574273504, 0.3178879574273504, 0.3178879574273503, 0.3178879574273504, 0.31788795742735043, 0.3178879574273504, 0.3178879574273504, 0.3178879574273504, 0.31788795742735043, 0.3178879574273504, 0.3178879574273503, 0.31788795742735043, 0.3178879574273504, 0.31788795742735043, 0.3178879574273504, 0.3178879574273504, 0.3178879574273504, 0.3178879574273504, 0.3178879574273504, null, -0.3177639921108332, -0.31776399211083334, -0.3177639921108332, -0.3177639921108331, -0.3177639921108333, -0.3177639921108333, -0.3177639921108332, -0.31776399211083317, -0.3177639921108332, -0.3177639921108333, -0.3177639921108332, -0.31776399211083317, -0.3177639921108332, -0.31776399211083317, -0.3177639921108332, -0.3177639921108333, -0.31776399211083317, -0.3177639921108332, -0.3177639921108332, -0.3177639921108332], \"y\": [null, -0.3548330097943594, -0.35483300979435944, -0.35483300979435944, -0.3548330097943593, -0.35483300979435944, -0.35483300979435944, -0.35483300979435944, -0.35483300979435933, -0.35483300979435933, -0.35483300979435944, -0.3548330097943594, -0.35483300979435933, -0.3548330097943594, -0.3548330097943594, -0.3548330097943594, -0.3548330097943594, -0.3548330097943594, -0.3548330097943594, -0.3548330097943594, -0.3548330097943594, null, 0.3547461683715187, 0.3547461683715187, 0.35474616837151873, 0.35474616837151857, 0.3547461683715187, 0.3547461683715188, 0.35474616837151873, 0.3547461683715186, 0.3547461683715186, 0.35474616837151873, 0.3547461683715187, 0.3547461683715187, 0.3547461683715187, 0.3547461683715187, 0.35474616837151873, 0.3547461683715187, 0.3547461683715186, 0.3547461683715186, 0.3547461683715187, 0.3547461683715187], \"z\": [null, 0.0, 7.289692374981774e-05, 0.0005831753899985419, 0.0019682169412450793, 0.0046654031199883355, 0.009112115468727219, 0.015745735529960635, 0.025003644846187487, 0.037323224959906684, 0.053141857413617134, 0.07289692374981775, 0.09702580551100745, 0.12596588423968508, 0.16015454147834954, 0.2000291587694999, 0.24602711765563495, 0.29858579967925347, 0.3581425863828545, 0.4251348593089371, 0.5, null, 0.0, 0.0003353258492491616, 0.0026826067939932927, 0.009053797929727363, 0.02146085435194634, 0.041915731156145206, 0.07243038343781891, 0.11501676629246244, 0.17168683481557073, 0.2444525441026388, 0.33532584924916164, 0.4463187053506342, 0.5794430675025513, 0.7367108908004079, 0.9201341303396995, 1.1317247412159206, 1.3734946785245659, 1.6474558973611306, 1.9556203528211105, 2.3], \"type\": \"scatter3d\", \"uid\": \"19beba64-95a3-49bb-9af6-27aac74a63f0\"}, {\"hoverinfo\": \"none\", \"line\": {\"color\": \"rgb(55,126,184)\"}, \"mode\": \"lines\", \"name\": \"a\", \"x\": [], \"y\": [], \"z\": [], \"type\": \"scatter3d\", \"uid\": \"7bb9fbaf-acf0-4444-b3d1-6f8ad03f57a8\"}, {\"hoverinfo\": \"none\", \"line\": {\"color\": \"rgb(228,26,28)\", \"dash\": \"dot\"}, \"mode\": \"lines\", \"name\": \"b\", \"x\": [], \"y\": [], \"z\": [], \"type\": \"scatter3d\", \"uid\": \"40882434-a080-454a-86e2-c7ac23e3c5f4\"}, {\"hoverinfo\": \"none\", \"line\": {\"color\": \"rgb(228,26,28)\"}, \"mode\": \"lines\", \"name\": \"b\", \"x\": [null, 0.8957198890033776, 0.8092009512969222, 0.7317804023658286, 0.6629527761670219, 0.6022126066574265, 0.5490544277939664, 0.5029727735335658, 0.4634621778331493, 0.4300171746496412, 0.40213229793996563, 0.37930208166104684, 0.36102105976980925, 0.3467837662231774, 0.33608473497807523, 0.32841849999142725, 0.3232795952201577, 0.320162554621191, 0.3185619121514513, 0.317972201767863, 0.3178879574273504, null, 0.3178879574273504, 0.22271161216190144, 0.13754407438298455, 0.061829299230236896, -0.004988758156704373, -0.06346614263820227, -0.11415889907461958, -0.15762307232631925, -0.19441470725366417, -0.22508984871701732, -0.2502045415767414, -0.27031483069319945, -0.2859767609267544, -0.29774637713776897, -0.3061797241866062, -0.311832846933629, -0.3152617902392002, -0.3170225989636827, -0.3176713179674394, -0.3177639921108332], \"y\": [null, -0.9999131585771595, -0.9033251263858875, -0.8168943556129769, -0.7400565539574077, -0.6722474291181603, -0.6129026887942143, -0.5614580406845492, -0.5173491924881454, -0.48001185190398277, -0.44888172663104126, -0.4233945243683004, -0.4029859528147404, -0.3870917196693413, -0.3751475326310827, -0.36658909939894463, -0.360852127671907, -0.3573723251489498, -0.3555853995290529, -0.3549270585111961, -0.3548330097943594, null, -0.3548330097943594, -0.24858751978468507, -0.15351487585197732, -0.06899436432529374, 0.005594728466308202, 0.07087311619377128, 0.12746151252803797, 0.1759806311400509, 0.21705118570075269, 0.2512938898810859, 0.2793294573519932, 0.3017786017844171, 0.31926203684930027, 0.3324004762175852, 0.3418146335602146, 0.348125222548131, 0.35195295685227695, 0.3539185501435952, 0.3546427160930283, 0.3547461683715187], \"z\": [null, 0.0, 7.289692374981774e-05, 0.0005831753899985419, 0.0019682169412450793, 0.0046654031199883355, 0.009112115468727219, 0.015745735529960635, 0.025003644846187487, 0.037323224959906684, 0.053141857413617134, 0.07289692374981775, 0.09702580551100745, 0.12596588423968508, 0.16015454147834954, 0.2000291587694999, 0.24602711765563495, 0.29858579967925347, 0.3581425863828545, 0.4251348593089371, 0.5, null, 0.5, 0.5002624289254994, 0.5020994314039948, 0.5070855809884822, 0.516795451231958, 0.5328036156874181, 0.5566846479078583, 0.5900131214462749, 0.634363609855664, 0.6913106866890218, 0.7624289254993439, 0.8492928998396267, 0.9534771832628662, 1.0765563493220585, 1.2201049715701995, 1.3856976235602856, 1.5749088788453123, 1.7893133109782762, 2.0304854935121734, 2.3], \"type\": \"scatter3d\", \"uid\": \"f7d355ad-15f4-4b14-a9c1-6bee2881c17f\"}], {\"hovermode\": \"closest\", \"scene\": {\"xaxis\": {\"autorange\": true, \"showgrid\": false, \"showline\": false, \"showspikes\": false, \"showticklabels\": false, \"ticks\": \"\", \"title\": {\"text\": \"\"}, \"zeroline\": false}, \"yaxis\": {\"autorange\": true, \"showgrid\": false, \"showline\": false, \"showspikes\": false, \"showticklabels\": false, \"ticks\": \"\", \"title\": {\"text\": \"\"}, \"zeroline\": false}, \"zaxis\": {\"autorange\": true, \"showgrid\": false, \"showline\": false, \"showspikes\": false, \"showticklabels\": false, \"ticks\": \"\", \"title\": {\"text\": \"\"}, \"zeroline\": false}}, \"title\": {\"text\": \"Temporal graph\"}}, {\"showLink\": false, \"linkText\": \"Export to plot.ly\", \"plotlyServerURL\": \"https://plot.ly\"})});</script><script type=\"text/javascript\">window.addEventListener(\"resize\", function(){window._Plotly.Plots.resize(document.getElementById(\"a39a136b-96a0-46dc-abd0-96609adb69c6\"));});</script>"
      ]
     },
     "metadata": {},
     "output_type": "display_data"
    }
   ],
   "source": [
    "import occ.vis.occasion_graph\n",
    "g = occ.vis.occasion_graph.generate_causal_graph_figure(occasion_graph, medium_graph)\n",
    "\n",
    "from plotly.offline import init_notebook_mode, iplot\n",
    "init_notebook_mode(connected=True)\n",
    "iplot(g)"
   ]
  },
  {
   "cell_type": "markdown",
   "metadata": {
    "pycharm": {
     "is_executing": false,
     "name": "#%% md\n"
    }
   },
   "source": [
    "\n",
    "## Websci examples\n",
    "\n",
    "# Private models...\n",
    "\n",
    "\n",
    "# Cheat sheet\n",
    "\n",
    "Inline expressions can be added by surrounding the latex code with\n",
    "\n",
    "$e^{i\\pi} + 1 = 0$\n",
    "Expressions on their own line are surrounded by $$:\n",
    "\n",
    "$$e^x=\\sum_{i=0}^\\infty \\frac{1}{i!}x^i$$\n"
   ]
  },
  {
   "cell_type": "code",
   "execution_count": null,
   "metadata": {
    "pycharm": {
     "is_executing": true,
     "name": "#%%\n"
    }
   },
   "outputs": [],
   "source": [
    "from occ.model import Unit, UnitModel, ext, u\n",
    "\n",
    "\n"
   ]
  },
  {
   "cell_type": "code",
   "execution_count": null,
   "metadata": {
    "pycharm": {
     "is_executing": true,
     "name": "#%%\n"
    }
   },
   "outputs": [],
   "source": []
  },
  {
   "cell_type": "code",
   "execution_count": null,
   "metadata": {
    "pycharm": {
     "name": "#%%\n"
    }
   },
   "outputs": [],
   "source": [
    "\n"
   ]
  }
 ],
 "metadata": {
  "kernelspec": {
   "display_name": "Python 3",
   "language": "python",
   "name": "python3"
  },
  "language_info": {
   "codemirror_mode": {
    "name": "ipython",
    "version": 3
   },
   "file_extension": ".py",
   "mimetype": "text/x-python",
   "name": "python",
   "nbconvert_exporter": "python",
   "pygments_lexer": "ipython3",
   "version": "3.7.2"
  },
  "pycharm": {
   "stem_cell": {
    "cell_type": "raw",
    "source": [],
    "metadata": {
     "collapsed": false
    }
   }
  }
 },
 "nbformat": 4,
 "nbformat_minor": 2
}