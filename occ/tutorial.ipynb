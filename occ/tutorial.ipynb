{
 "cells": [
  {
   "cell_type": "markdown",
   "metadata": {},
   "source": [
    "# occmodeler tutorial\n",
    "\n",
    "## Setup the python path\n",
    "\n",
    "Add `pyspike` to the python path if necessary (this will be streamlined once `occmodeler` is properly packaged)\n"
   ]
  },
  {
   "cell_type": "code",
   "execution_count": 1,
   "metadata": {
    "pycharm": {
     "is_executing": false,
     "name": "#%%\n"
    }
   },
   "outputs": [
    {
     "name": "stdout",
     "output_type": "stream",
     "text": [
      "Added to python path: '/Users/walton/Documents/DPhil/code/occmodeller/pyspike'\n",
      "Added to python path: '/Users/walton/Documents/DPhil/code/occmodeller/occdash'\n"
     ]
    }
   ],
   "source": [
    "%load_ext autoreload\n",
    "%autoreload 2\n",
    "\n",
    "import plotly.offline as py\n",
    "import occ\n",
    "occ.add_pyspike_to_path()\n",
    "occ.add_occdash_to_path()\n"
   ]
  },
  {
   "cell_type": "markdown",
   "metadata": {
    "pycharm": {
     "name": "#%% md\n"
    }
   },
   "source": [
    "## Occasion modeling primitives\n",
    "\n",
    "### Primitives from WebSci'19 paper\n",
    "Some of the models built in the WebSci'19 paper act as primitive transitions. These were:\n",
    "\n",
    "| Model | Primitive | `occ.model.transitions` |\n",
    "| --- | --- | --- |\n",
    "| Diffusion | Follow one neighbour | `FollowNeighbour(src, dst, rate)` |\n",
    "| Diffusion with echo | Follow two neighbours | `FollowTwoNeighbours(src, dst, rate)`\n",
    "| Issue conflation model | Modulated internal | `ModulatedInternal(src, dst, internal_mod)`\n",
    "\n",
    "Where `src` is the place in $Unit$ to move a token from and `dst` is the destination place to move it to. These pair highlight the so far un-discussed state-machine type functionality in $Unit$.\n",
    "`rate` is the $\\lambda$ Poisson firing rate in firings per time unit.\n",
    "`internal_mod` is the place internal to $Unit$ which enambles the internal state transition from `src` to `dst`.\n",
    "\n",
    "### Creating primitives\n",
    "\n",
    "The encoding of these transitions is currently made straight to the CANDL file format used by Spike and is not worth describing here. In the future this mapping will be through a coloured Petri net representation and will be presented here. This will allow `occmodeler` users to check existing occasion modeling primitives and to build new ones.\n",
    "\n",
    "\n"
   ]
  },
  {
   "cell_type": "markdown",
   "metadata": {},
   "source": [
    "## Building models from primitives\n",
    "\n",
    "The `occ.model` package contains code for building models at a higher level of abstraction than coloured petri nets.\n",
    "\n",
    "### Model each repeating unit\n",
    "The primitives in `occ.model.transitions` just introduced depend on the colour (or type) $Unit$, with which to represent each repeating Unit, and on variables of type $Unit$ with which to label input and output arcs:\n"
   ]
  },
  {
   "cell_type": "code",
   "execution_count": 2,
   "metadata": {
    "pycharm": {
     "is_executing": false,
     "name": "#%%\n"
    }
   },
   "outputs": [],
   "source": [
    "import occ.model\n",
    "\n",
    "unit_colour = occ.model.Color('Unit')\n",
    "\n",
    "u = unit_colour.var('u')  # Used to identify arcs belonging to am instance of Unit\n",
    "n1 = unit_colour.var('n1')  # Used to identify a units potential first neighbour\n",
    "n2 = unit_colour.var('n2')  # Used to identify a units potential second neighbour"
   ]
  },
  {
   "cell_type": "markdown",
   "metadata": {
    "pycharm": {
     "name": "#%% md\n"
    }
   },
   "source": [
    "\n",
    "A model requires places of color $Unit$. Here the initial markings are set so that units 1 and 2 start in place $a$ and unit 0 starts in place $b$ (we will look at an oftent more convenient way of configuring the initial marking later):"
   ]
  },
  {
   "cell_type": "code",
   "execution_count": 3,
   "metadata": {
    "pycharm": {
     "is_executing": false,
     "name": "#%%\n"
    }
   },
   "outputs": [],
   "source": [
    "a = unit_colour.place('a', occ.model.marking([1, 2, 3]))\n",
    "b = unit_colour.place('b', occ.model.marking([0]))"
   ]
  },
  {
   "cell_type": "markdown",
   "metadata": {
    "pycharm": {
     "name": "#%% md\n"
    }
   },
   "source": [
    "\n",
    "\n",
    "To create a model we include these in a `UnitModel` (there is currently unabstracted complexity here as instances of UnitModel will always required the colour $Unit$ and the variables `u` and `n1`):"
   ]
  },
  {
   "cell_type": "code",
   "execution_count": 4,
   "metadata": {
    "pycharm": {
     "is_executing": false,
     "name": "#%%\n"
    }
   },
   "outputs": [],
   "source": [
    "m = occ.model.UnitModel(\n",
    "    name='tutorial - diffusion model',\n",
    "    colors=[unit_colour],\n",
    "    variables=[u, n1],\n",
    "    places=[a, b]\n",
    ")\n"
   ]
  },
  {
   "cell_type": "markdown",
   "metadata": {
    "pycharm": {
     "name": "#%% md\n"
    }
   },
   "source": [
    "To reproduce the simple diffusion model of Figures 3, 4 and 5a, we need only add a single transition from a ($x_0$ in the text) and b ($x_a$) in the text we add a single FollowNeighbour transition from `a` to `b`.\n"
   ]
  },
  {
   "cell_type": "code",
   "execution_count": 5,
   "metadata": {
    "pycharm": {
     "is_executing": false,
     "name": "#%%\n"
    }
   },
   "outputs": [],
   "source": [
    "m.add_transition(occ.model.follow1(a, b))\n"
   ]
  },
  {
   "cell_type": "markdown",
   "metadata": {
    "pycharm": {
     "name": "#%% md\n"
    }
   },
   "source": [
    "The `add_transition()` method on `UnitModel` will create a place if necessary. It will also check that the colors and variables required for the transition are available.\n",
    "\n",
    "### Create a medium graph\n",
    "To create a graph medium with three connected nodes ${n_{1} \\longleftrightarrow n_{2} \\longleftrightarrow n_{3}}$.\n"
   ]
  },
  {
   "cell_type": "code",
   "execution_count": 6,
   "metadata": {
    "pycharm": {
     "is_executing": false,
     "name": "#%%\n"
    }
   },
   "outputs": [],
   "source": [
    "import networkx as nx\n",
    "medium_graph = nx.Graph([(0, 1), (1, 2), (2, 3)])"
   ]
  },
  {
   "cell_type": "markdown",
   "metadata": {
    "pycharm": {
     "name": "#%% md\n"
    }
   },
   "source": [
    "Create the system model by embedding the repeating unit on the medium graph:"
   ]
  },
  {
   "cell_type": "code",
   "execution_count": 7,
   "metadata": {
    "pycharm": {
     "is_executing": false,
     "name": "#%%\n"
    }
   },
   "outputs": [
    {
     "data": {
      "text/plain": [
       "SystemModel(unit=<pyspike.model.UnitModel object at 0x11d545390>, network=<networkx.classes.graph.Graph object at 0x11d545c50>, network_name='four node linear graph', marking=None)"
      ]
     },
     "execution_count": 7,
     "metadata": {},
     "output_type": "execute_result"
    }
   ],
   "source": [
    "system_model = occ.model.SystemModel(m, medium_graph, 'four node linear graph')\n",
    "system_model"
   ]
  },
  {
   "cell_type": "markdown",
   "metadata": {
    "pycharm": {
     "name": "#%% md\n"
    }
   },
   "source": [
    "- [ ] TODO: `occ.model.SystemModel` takes a name for the graph which should be taken from the graph itself.\n",
    "\n",
    "## Simulation\n",
    "\n",
    "The `occ.sim` package contains code for simulating system models."
   ]
  },
  {
   "cell_type": "code",
   "execution_count": 8,
   "metadata": {
    "pycharm": {
     "is_executing": false,
     "name": "#%%\n"
    }
   },
   "outputs": [
    {
     "name": "stderr",
     "output_type": "stream",
     "text": [
      "INFO:root:Using temporary directory:/var/folders/rb/z1vh8mr52xvc_y0yx4bw20jh0000gn/T/tmpqpndskgj\n",
      "INFO:root:Calling: '['~/bin/spike exe -f input/conf.spc']' from cwd: /var/folders/rb/z1vh8mr52xvc_y0yx4bw20jh0000gn/T/tmpqpndskgj/spike\n",
      "INFO:root:Call to Spike complete\n"
     ]
    },
    {
     "data": {
      "text/plain": [
       "SimulationResult: temporary run"
      ]
     },
     "execution_count": 8,
     "metadata": {},
     "output_type": "execute_result"
    }
   ],
   "source": [
    "import occ.sim\n",
    "sim_args = occ.sim.SimArgs(start=0, stop=10, step=.1, runs=1, repeat_sim=1)\n",
    "sim_result = occ.sim.run_in_tmp(system_model, sim_args)\n",
    "sim_result\n"
   ]
  },
  {
   "cell_type": "markdown",
   "metadata": {
    "pycharm": {
     "name": "#%% md\n"
    }
   },
   "source": [
    "### Managing simulation runs\n",
    "\n",
    "Above we used `occ.sim.run_in_tmp()` to run a simulation. This runs Spike up in a tempoary directory, loads the resulting output and returns an `occ.model.SimulationResult`. Alternatively `occ.sim.run_in_dir(a_dir)` will run the simulation in a given directory, which can be useful for debugging.\n",
    "\n",
    "Most usefully, `occ.sim.run()`, will create a sequentially numbered list of directories for each run within a `basedir`. `basedir` defaults to the top level of the occmodeler repository for now:\n"
   ]
  },
  {
   "cell_type": "code",
   "execution_count": 9,
   "metadata": {
    "pycharm": {
     "is_executing": false,
     "name": "#%%\n"
    }
   },
   "outputs": [
    {
     "name": "stderr",
     "output_type": "stream",
     "text": [
      "INFO:root:Calling: '['~/bin/spike exe -f input/conf.spc']' from cwd: /Users/walton/Documents/DPhil/code/occmodeller/runs/22/spike\n"
     ]
    },
    {
     "name": "stdout",
     "output_type": "stream",
     "text": [
      "/Users/walton/Documents/DPhil/code/occmodeller/runs\n"
     ]
    },
    {
     "name": "stderr",
     "output_type": "stream",
     "text": [
      "INFO:root:Call to Spike complete\n"
     ]
    },
    {
     "data": {
      "text/plain": [
       "SimulationResult: run['num']=22. http://127.0.0.1:8050/run-22"
      ]
     },
     "execution_count": 9,
     "metadata": {},
     "output_type": "execute_result"
    }
   ],
   "source": [
    "print(occ.sim.BASEDIR)\n",
    "occ.sim.run(system_model, sim_args)"
   ]
  },
  {
   "cell_type": "markdown",
   "metadata": {
    "pycharm": {
     "name": "#%% md\n"
    }
   },
   "source": [
    "Finally, if you've used `occ.sim.run_in_tmp()` and seen something interesting the results may be archived by calling `occ.save(sim_result)`, and you load results with `occ.sim.load(run_num)`"
   ]
  },
  {
   "cell_type": "markdown",
   "metadata": {
    "pycharm": {
     "name": "#%% md\n"
    }
   },
   "source": [
    "## Simulation results"
   ]
  },
  {
   "cell_type": "markdown",
   "metadata": {},
   "source": [
    "The scans above return `occ.sim.SimulationResult` object."
   ]
  },
  {
   "cell_type": "markdown",
   "metadata": {
    "pycharm": {
     "name": "#%% md\n"
    }
   },
   "source": [
    "### Raw time series data\n",
    "A time series of place counts and transitions are loaded as pandas data frames:"
   ]
  },
  {
   "cell_type": "code",
   "execution_count": 10,
   "metadata": {
    "pycharm": {
     "name": "#%%\n"
    }
   },
   "outputs": [
    {
     "data": {
      "text/html": [
       "<div>\n",
       "<style scoped>\n",
       "    .dataframe tbody tr th:only-of-type {\n",
       "        vertical-align: middle;\n",
       "    }\n",
       "\n",
       "    .dataframe tbody tr th {\n",
       "        vertical-align: top;\n",
       "    }\n",
       "\n",
       "    .dataframe thead th {\n",
       "        text-align: right;\n",
       "    }\n",
       "</style>\n",
       "<table border=\"1\" class=\"dataframe\">\n",
       "  <thead>\n",
       "    <tr style=\"text-align: right;\">\n",
       "      <th></th>\n",
       "      <th>Time</th>\n",
       "      <th>a</th>\n",
       "      <th>a_0</th>\n",
       "      <th>a_1</th>\n",
       "      <th>a_2</th>\n",
       "      <th>a_3</th>\n",
       "      <th>b</th>\n",
       "      <th>b_0</th>\n",
       "      <th>b_1</th>\n",
       "      <th>b_2</th>\n",
       "      <th>b_3</th>\n",
       "    </tr>\n",
       "  </thead>\n",
       "  <tbody>\n",
       "    <tr>\n",
       "      <th>0</th>\n",
       "      <td>0.0</td>\n",
       "      <td>3</td>\n",
       "      <td>0</td>\n",
       "      <td>1</td>\n",
       "      <td>1</td>\n",
       "      <td>1</td>\n",
       "      <td>1</td>\n",
       "      <td>1</td>\n",
       "      <td>0</td>\n",
       "      <td>0</td>\n",
       "      <td>0</td>\n",
       "    </tr>\n",
       "    <tr>\n",
       "      <th>1</th>\n",
       "      <td>0.1</td>\n",
       "      <td>3</td>\n",
       "      <td>0</td>\n",
       "      <td>1</td>\n",
       "      <td>1</td>\n",
       "      <td>1</td>\n",
       "      <td>1</td>\n",
       "      <td>1</td>\n",
       "      <td>0</td>\n",
       "      <td>0</td>\n",
       "      <td>0</td>\n",
       "    </tr>\n",
       "    <tr>\n",
       "      <th>2</th>\n",
       "      <td>0.2</td>\n",
       "      <td>3</td>\n",
       "      <td>0</td>\n",
       "      <td>1</td>\n",
       "      <td>1</td>\n",
       "      <td>1</td>\n",
       "      <td>1</td>\n",
       "      <td>1</td>\n",
       "      <td>0</td>\n",
       "      <td>0</td>\n",
       "      <td>0</td>\n",
       "    </tr>\n",
       "    <tr>\n",
       "      <th>3</th>\n",
       "      <td>0.3</td>\n",
       "      <td>3</td>\n",
       "      <td>0</td>\n",
       "      <td>1</td>\n",
       "      <td>1</td>\n",
       "      <td>1</td>\n",
       "      <td>1</td>\n",
       "      <td>1</td>\n",
       "      <td>0</td>\n",
       "      <td>0</td>\n",
       "      <td>0</td>\n",
       "    </tr>\n",
       "    <tr>\n",
       "      <th>4</th>\n",
       "      <td>0.4</td>\n",
       "      <td>3</td>\n",
       "      <td>0</td>\n",
       "      <td>1</td>\n",
       "      <td>1</td>\n",
       "      <td>1</td>\n",
       "      <td>1</td>\n",
       "      <td>1</td>\n",
       "      <td>0</td>\n",
       "      <td>0</td>\n",
       "      <td>0</td>\n",
       "    </tr>\n",
       "  </tbody>\n",
       "</table>\n",
       "</div>"
      ],
      "text/plain": [
       "   Time  a  a_0  a_1  a_2  a_3  b  b_0  b_1  b_2  b_3\n",
       "0   0.0  3    0    1    1    1  1    1    0    0    0\n",
       "1   0.1  3    0    1    1    1  1    1    0    0    0\n",
       "2   0.2  3    0    1    1    1  1    1    0    0    0\n",
       "3   0.3  3    0    1    1    1  1    1    0    0    0\n",
       "4   0.4  3    0    1    1    1  1    1    0    0    0"
      ]
     },
     "execution_count": 10,
     "metadata": {},
     "output_type": "execute_result"
    }
   ],
   "source": [
    "(sim_result.raw_places).sort_index(axis=1).head()"
   ]
  },
  {
   "cell_type": "code",
   "execution_count": 11,
   "metadata": {
    "pycharm": {
     "name": "#%%\n"
    }
   },
   "outputs": [
    {
     "data": {
      "text/html": [
       "<div>\n",
       "<style scoped>\n",
       "    .dataframe tbody tr th:only-of-type {\n",
       "        vertical-align: middle;\n",
       "    }\n",
       "\n",
       "    .dataframe tbody tr th {\n",
       "        vertical-align: top;\n",
       "    }\n",
       "\n",
       "    .dataframe thead th {\n",
       "        text-align: right;\n",
       "    }\n",
       "</style>\n",
       "<table border=\"1\" class=\"dataframe\">\n",
       "  <thead>\n",
       "    <tr style=\"text-align: right;\">\n",
       "      <th></th>\n",
       "      <th>Time</th>\n",
       "      <th>f1ab</th>\n",
       "      <th>f1ab_0_1</th>\n",
       "      <th>f1ab_1_0</th>\n",
       "      <th>f1ab_1_2</th>\n",
       "      <th>f1ab_2_1</th>\n",
       "      <th>f1ab_2_3</th>\n",
       "      <th>f1ab_3_2</th>\n",
       "    </tr>\n",
       "  </thead>\n",
       "  <tbody>\n",
       "    <tr>\n",
       "      <th>0</th>\n",
       "      <td>0.0</td>\n",
       "      <td>0</td>\n",
       "      <td>0</td>\n",
       "      <td>0</td>\n",
       "      <td>0</td>\n",
       "      <td>0</td>\n",
       "      <td>0</td>\n",
       "      <td>0</td>\n",
       "    </tr>\n",
       "    <tr>\n",
       "      <th>1</th>\n",
       "      <td>0.1</td>\n",
       "      <td>0</td>\n",
       "      <td>0</td>\n",
       "      <td>0</td>\n",
       "      <td>0</td>\n",
       "      <td>0</td>\n",
       "      <td>0</td>\n",
       "      <td>0</td>\n",
       "    </tr>\n",
       "    <tr>\n",
       "      <th>2</th>\n",
       "      <td>0.2</td>\n",
       "      <td>0</td>\n",
       "      <td>0</td>\n",
       "      <td>0</td>\n",
       "      <td>0</td>\n",
       "      <td>0</td>\n",
       "      <td>0</td>\n",
       "      <td>0</td>\n",
       "    </tr>\n",
       "    <tr>\n",
       "      <th>3</th>\n",
       "      <td>0.3</td>\n",
       "      <td>0</td>\n",
       "      <td>0</td>\n",
       "      <td>0</td>\n",
       "      <td>0</td>\n",
       "      <td>0</td>\n",
       "      <td>0</td>\n",
       "      <td>0</td>\n",
       "    </tr>\n",
       "    <tr>\n",
       "      <th>4</th>\n",
       "      <td>0.4</td>\n",
       "      <td>0</td>\n",
       "      <td>0</td>\n",
       "      <td>0</td>\n",
       "      <td>0</td>\n",
       "      <td>0</td>\n",
       "      <td>0</td>\n",
       "      <td>0</td>\n",
       "    </tr>\n",
       "  </tbody>\n",
       "</table>\n",
       "</div>"
      ],
      "text/plain": [
       "   Time  f1ab  f1ab_0_1  f1ab_1_0  f1ab_1_2  f1ab_2_1  f1ab_2_3  f1ab_3_2\n",
       "0   0.0     0         0         0         0         0         0         0\n",
       "1   0.1     0         0         0         0         0         0         0\n",
       "2   0.2     0         0         0         0         0         0         0\n",
       "3   0.3     0         0         0         0         0         0         0\n",
       "4   0.4     0         0         0         0         0         0         0"
      ]
     },
     "execution_count": 11,
     "metadata": {},
     "output_type": "execute_result"
    }
   ],
   "source": [
    "(sim_result.raw_transitions).sort_index(axis=1).head()"
   ]
  },
  {
   "cell_type": "markdown",
   "metadata": {},
   "source": [
    "### Tidy time series data\n",
    "The `occ.sim.SimulationResult` also include the place and transition data in [tidy](https://en.wikipedia.org/wiki/Tidy_data) form:"
   ]
  },
  {
   "cell_type": "code",
   "execution_count": 12,
   "metadata": {},
   "outputs": [
    {
     "data": {
      "text/html": [
       "<div>\n",
       "<style scoped>\n",
       "    .dataframe tbody tr th:only-of-type {\n",
       "        vertical-align: middle;\n",
       "    }\n",
       "\n",
       "    .dataframe tbody tr th {\n",
       "        vertical-align: top;\n",
       "    }\n",
       "\n",
       "    .dataframe thead th {\n",
       "        text-align: right;\n",
       "    }\n",
       "</style>\n",
       "<table border=\"1\" class=\"dataframe\">\n",
       "  <thead>\n",
       "    <tr style=\"text-align: right;\">\n",
       "      <th></th>\n",
       "      <th>tstep</th>\n",
       "      <th>time</th>\n",
       "      <th>type</th>\n",
       "      <th>name</th>\n",
       "      <th>num</th>\n",
       "      <th>count</th>\n",
       "    </tr>\n",
       "  </thead>\n",
       "  <tbody>\n",
       "    <tr>\n",
       "      <th>100</th>\n",
       "      <td>0</td>\n",
       "      <td>0.0</td>\n",
       "      <td>place</td>\n",
       "      <td>a</td>\n",
       "      <td>3.0</td>\n",
       "      <td>1</td>\n",
       "    </tr>\n",
       "    <tr>\n",
       "      <th>101</th>\n",
       "      <td>1</td>\n",
       "      <td>0.1</td>\n",
       "      <td>place</td>\n",
       "      <td>a</td>\n",
       "      <td>3.0</td>\n",
       "      <td>1</td>\n",
       "    </tr>\n",
       "    <tr>\n",
       "      <th>102</th>\n",
       "      <td>2</td>\n",
       "      <td>0.2</td>\n",
       "      <td>place</td>\n",
       "      <td>a</td>\n",
       "      <td>3.0</td>\n",
       "      <td>1</td>\n",
       "    </tr>\n",
       "    <tr>\n",
       "      <th>103</th>\n",
       "      <td>3</td>\n",
       "      <td>0.3</td>\n",
       "      <td>place</td>\n",
       "      <td>a</td>\n",
       "      <td>3.0</td>\n",
       "      <td>1</td>\n",
       "    </tr>\n",
       "    <tr>\n",
       "      <th>104</th>\n",
       "      <td>4</td>\n",
       "      <td>0.4</td>\n",
       "      <td>place</td>\n",
       "      <td>a</td>\n",
       "      <td>3.0</td>\n",
       "      <td>1</td>\n",
       "    </tr>\n",
       "  </tbody>\n",
       "</table>\n",
       "</div>"
      ],
      "text/plain": [
       "     tstep  time   type name  num  count\n",
       "100      0   0.0  place    a  3.0      1\n",
       "101      1   0.1  place    a  3.0      1\n",
       "102      2   0.2  place    a  3.0      1\n",
       "103      3   0.3  place    a  3.0      1\n",
       "104      4   0.4  place    a  3.0      1"
      ]
     },
     "execution_count": 12,
     "metadata": {},
     "output_type": "execute_result"
    }
   ],
   "source": [
    "(sim_result.places).head()"
   ]
  },
  {
   "cell_type": "code",
   "execution_count": 13,
   "metadata": {},
   "outputs": [
    {
     "data": {
      "text/html": [
       "<div>\n",
       "<style scoped>\n",
       "    .dataframe tbody tr th:only-of-type {\n",
       "        vertical-align: middle;\n",
       "    }\n",
       "\n",
       "    .dataframe tbody tr th {\n",
       "        vertical-align: top;\n",
       "    }\n",
       "\n",
       "    .dataframe thead th {\n",
       "        text-align: right;\n",
       "    }\n",
       "</style>\n",
       "<table border=\"1\" class=\"dataframe\">\n",
       "  <thead>\n",
       "    <tr style=\"text-align: right;\">\n",
       "      <th></th>\n",
       "      <th>tstep</th>\n",
       "      <th>time</th>\n",
       "      <th>type</th>\n",
       "      <th>name</th>\n",
       "      <th>unit</th>\n",
       "      <th>neighbour</th>\n",
       "      <th>neighbour2</th>\n",
       "      <th>count</th>\n",
       "    </tr>\n",
       "  </thead>\n",
       "  <tbody>\n",
       "    <tr>\n",
       "      <th>100</th>\n",
       "      <td>0</td>\n",
       "      <td>0.0</td>\n",
       "      <td>transition</td>\n",
       "      <td>f1ab</td>\n",
       "      <td>2.0</td>\n",
       "      <td>1.0</td>\n",
       "      <td>NaN</td>\n",
       "      <td>0</td>\n",
       "    </tr>\n",
       "    <tr>\n",
       "      <th>101</th>\n",
       "      <td>1</td>\n",
       "      <td>0.1</td>\n",
       "      <td>transition</td>\n",
       "      <td>f1ab</td>\n",
       "      <td>2.0</td>\n",
       "      <td>1.0</td>\n",
       "      <td>NaN</td>\n",
       "      <td>0</td>\n",
       "    </tr>\n",
       "    <tr>\n",
       "      <th>102</th>\n",
       "      <td>2</td>\n",
       "      <td>0.2</td>\n",
       "      <td>transition</td>\n",
       "      <td>f1ab</td>\n",
       "      <td>2.0</td>\n",
       "      <td>1.0</td>\n",
       "      <td>NaN</td>\n",
       "      <td>0</td>\n",
       "    </tr>\n",
       "    <tr>\n",
       "      <th>103</th>\n",
       "      <td>3</td>\n",
       "      <td>0.3</td>\n",
       "      <td>transition</td>\n",
       "      <td>f1ab</td>\n",
       "      <td>2.0</td>\n",
       "      <td>1.0</td>\n",
       "      <td>NaN</td>\n",
       "      <td>0</td>\n",
       "    </tr>\n",
       "    <tr>\n",
       "      <th>104</th>\n",
       "      <td>4</td>\n",
       "      <td>0.4</td>\n",
       "      <td>transition</td>\n",
       "      <td>f1ab</td>\n",
       "      <td>2.0</td>\n",
       "      <td>1.0</td>\n",
       "      <td>NaN</td>\n",
       "      <td>0</td>\n",
       "    </tr>\n",
       "  </tbody>\n",
       "</table>\n",
       "</div>"
      ],
      "text/plain": [
       "     tstep  time        type  name  unit  neighbour  neighbour2  count\n",
       "100      0   0.0  transition  f1ab   2.0        1.0         NaN      0\n",
       "101      1   0.1  transition  f1ab   2.0        1.0         NaN      0\n",
       "102      2   0.2  transition  f1ab   2.0        1.0         NaN      0\n",
       "103      3   0.3  transition  f1ab   2.0        1.0         NaN      0\n",
       "104      4   0.4  transition  f1ab   2.0        1.0         NaN      0"
      ]
     },
     "execution_count": 13,
     "metadata": {},
     "output_type": "execute_result"
    }
   ],
   "source": [
    "(sim_result.transitions).head()"
   ]
  },
  {
   "cell_type": "markdown",
   "metadata": {
    "pycharm": {
     "name": "#%% md\n"
    }
   },
   "source": [
    "## Data reduction\n",
    "The `occ.reduction` package includes functions for loading and reducing the data from a simulation run."
   ]
  },
  {
   "cell_type": "code",
   "execution_count": 14,
   "metadata": {},
   "outputs": [
    {
     "data": {
      "text/html": [
       "<div>\n",
       "<style scoped>\n",
       "    .dataframe tbody tr th:only-of-type {\n",
       "        vertical-align: middle;\n",
       "    }\n",
       "\n",
       "    .dataframe tbody tr th {\n",
       "        vertical-align: top;\n",
       "    }\n",
       "\n",
       "    .dataframe thead th {\n",
       "        text-align: right;\n",
       "    }\n",
       "</style>\n",
       "<table border=\"1\" class=\"dataframe\">\n",
       "  <thead>\n",
       "    <tr style=\"text-align: right;\">\n",
       "      <th></th>\n",
       "      <th>tstep</th>\n",
       "      <th>time</th>\n",
       "      <th>type</th>\n",
       "      <th>name</th>\n",
       "      <th>num</th>\n",
       "    </tr>\n",
       "  </thead>\n",
       "  <tbody>\n",
       "    <tr>\n",
       "      <th>200</th>\n",
       "      <td>0</td>\n",
       "      <td>0.0</td>\n",
       "      <td>place</td>\n",
       "      <td>a</td>\n",
       "      <td>1</td>\n",
       "    </tr>\n",
       "    <tr>\n",
       "      <th>400</th>\n",
       "      <td>0</td>\n",
       "      <td>0.0</td>\n",
       "      <td>place</td>\n",
       "      <td>a</td>\n",
       "      <td>2</td>\n",
       "    </tr>\n",
       "    <tr>\n",
       "      <th>100</th>\n",
       "      <td>0</td>\n",
       "      <td>0.0</td>\n",
       "      <td>place</td>\n",
       "      <td>a</td>\n",
       "      <td>3</td>\n",
       "    </tr>\n",
       "    <tr>\n",
       "      <th>600</th>\n",
       "      <td>0</td>\n",
       "      <td>0.0</td>\n",
       "      <td>place</td>\n",
       "      <td>b</td>\n",
       "      <td>0</td>\n",
       "    </tr>\n",
       "    <tr>\n",
       "      <th>713</th>\n",
       "      <td>13</td>\n",
       "      <td>1.3</td>\n",
       "      <td>place</td>\n",
       "      <td>b</td>\n",
       "      <td>1</td>\n",
       "    </tr>\n",
       "    <tr>\n",
       "      <th>814</th>\n",
       "      <td>14</td>\n",
       "      <td>1.4</td>\n",
       "      <td>place</td>\n",
       "      <td>b</td>\n",
       "      <td>2</td>\n",
       "    </tr>\n",
       "    <tr>\n",
       "      <th>321</th>\n",
       "      <td>21</td>\n",
       "      <td>2.1</td>\n",
       "      <td>place</td>\n",
       "      <td>b</td>\n",
       "      <td>3</td>\n",
       "    </tr>\n",
       "  </tbody>\n",
       "</table>\n",
       "</div>"
      ],
      "text/plain": [
       "     tstep  time   type name  num\n",
       "200      0   0.0  place    a    1\n",
       "400      0   0.0  place    a    2\n",
       "100      0   0.0  place    a    3\n",
       "600      0   0.0  place    b    0\n",
       "713     13   1.3  place    b    1\n",
       "814     14   1.4  place    b    2\n",
       "321     21   2.1  place    b    3"
      ]
     },
     "execution_count": 14,
     "metadata": {},
     "output_type": "execute_result"
    }
   ],
   "source": [
    "import occ.reduction\n",
    "place_change_events = occ.reduction.generate_place_increased_events(sim_result.places)\n",
    "place_change_events"
   ]
  },
  {
   "cell_type": "code",
   "execution_count": 15,
   "metadata": {},
   "outputs": [
    {
     "data": {
      "text/html": [
       "<div>\n",
       "<style scoped>\n",
       "    .dataframe tbody tr th:only-of-type {\n",
       "        vertical-align: middle;\n",
       "    }\n",
       "\n",
       "    .dataframe tbody tr th {\n",
       "        vertical-align: top;\n",
       "    }\n",
       "\n",
       "    .dataframe thead th {\n",
       "        text-align: right;\n",
       "    }\n",
       "</style>\n",
       "<table border=\"1\" class=\"dataframe\">\n",
       "  <thead>\n",
       "    <tr style=\"text-align: right;\">\n",
       "      <th></th>\n",
       "      <th>tstep</th>\n",
       "      <th>time</th>\n",
       "      <th>type</th>\n",
       "      <th>name</th>\n",
       "      <th>unit</th>\n",
       "      <th>neighbour</th>\n",
       "      <th>neighbour2</th>\n",
       "      <th>count</th>\n",
       "    </tr>\n",
       "  </thead>\n",
       "  <tbody>\n",
       "    <tr>\n",
       "      <th>413</th>\n",
       "      <td>13</td>\n",
       "      <td>1.3</td>\n",
       "      <td>transition</td>\n",
       "      <td>f1ab</td>\n",
       "      <td>1.0</td>\n",
       "      <td>0.0</td>\n",
       "      <td>NaN</td>\n",
       "      <td>1</td>\n",
       "    </tr>\n",
       "    <tr>\n",
       "      <th>114</th>\n",
       "      <td>14</td>\n",
       "      <td>1.4</td>\n",
       "      <td>transition</td>\n",
       "      <td>f1ab</td>\n",
       "      <td>2.0</td>\n",
       "      <td>1.0</td>\n",
       "      <td>NaN</td>\n",
       "      <td>1</td>\n",
       "    </tr>\n",
       "    <tr>\n",
       "      <th>521</th>\n",
       "      <td>21</td>\n",
       "      <td>2.1</td>\n",
       "      <td>transition</td>\n",
       "      <td>f1ab</td>\n",
       "      <td>3.0</td>\n",
       "      <td>2.0</td>\n",
       "      <td>NaN</td>\n",
       "      <td>1</td>\n",
       "    </tr>\n",
       "  </tbody>\n",
       "</table>\n",
       "</div>"
      ],
      "text/plain": [
       "     tstep  time        type  name  unit  neighbour  neighbour2  count\n",
       "413     13   1.3  transition  f1ab   1.0        0.0         NaN      1\n",
       "114     14   1.4  transition  f1ab   2.0        1.0         NaN      1\n",
       "521     21   2.1  transition  f1ab   3.0        2.0         NaN      1"
      ]
     },
     "execution_count": 15,
     "metadata": {},
     "output_type": "execute_result"
    }
   ],
   "source": [
    "transition_events = occ.reduction.generate_transition_events(sim_result.transitions)\n",
    "transition_events"
   ]
  },
  {
   "cell_type": "markdown",
   "metadata": {},
   "source": [
    "## Visualisation\n",
    "\n",
    "### Occasion graph\n",
    "\n",
    "Create an causal occasion graph and plot in 2d and then 3d (note that when rendered on github.com the 3d plot wil not be interactive)."
   ]
  },
  {
   "cell_type": "code",
   "execution_count": 16,
   "metadata": {
    "pycharm": {
     "name": "#%%\n"
    }
   },
   "outputs": [
    {
     "data": {
      "image/png": "[encoded data removed]",
      "text/plain": [
       "<Figure size 432x288 with 1 Axes>"
      ]
     },
     "metadata": {},
     "output_type": "display_data"
    }
   ],
   "source": [
    "occasion_graph = occ.reduction.generate_causal_graph(\n",
    "        place_change_events, transition_events, time_per_step=sim_result.sim_args.step)\n",
    "\n",
    "import networkx as nx\n",
    "nx.draw(occasion_graph, with_labels=True)"
   ]
  },
  {
   "cell_type": "code",
   "execution_count": 20,
   "metadata": {
    "pycharm": {
     "name": "#%%\n"
    }
   },
   "outputs": [
    {
     "data": {
      "application/vnd.plotly.v1+json": {
       "config": {
        "linkText": "Export to plot.ly",
        "plotlyServerURL": "https://plot.ly",
        "showLink": false
       },
       "data": [
        {
         "hoverinfo": "none",
         "line": {
          "color": "#888"
         },
         "mode": "lines",
         "name": "M",
         "type": "scatter3d",
         "uid": "93603d87-9453-4b4e-952f-8e373eabe483",
         "x": [
          0.24940688955415688,
          0.08824667511389553,
          null,
          0.08824667511389553,
          -0.08829828794976728,
          null,
          -0.08829828794976728,
          -0.24935527671828506,
          null
         ],
         "y": [
          0.9999999999999999,
          0.35374101927336643,
          null,
          0.35374101927336643,
          -0.35408652445771693,
          null,
          -0.35408652445771693,
          -0.9996544948156495,
          null
         ],
         "z": [
          0,
          0,
          null,
          0,
          0,
          null,
          0,
          0,
          null
         ]
        },
        {
         "hoverinfo": "text",
         "marker": {
          "color": "rgb(55,126,184)",
          "opacity": 0.5
         },
         "mode": "markers",
         "name": "a",
         "text": [
          "a1@0.0",
          "a2@0.0",
          "a3@0.0"
         ],
         "type": "scatter3d",
         "uid": "bcb6b585-5b52-4fc2-b405-110fa196e621",
         "x": [
          0.08824667511389553,
          -0.08829828794976728,
          -0.24935527671828506
         ],
         "y": [
          0.35374101927336643,
          -0.35408652445771693,
          -0.9996544948156495
         ],
         "z": [
          0,
          0,
          0
         ]
        },
        {
         "hoverinfo": "text",
         "marker": {
          "color": "rgb(228,26,28)",
          "opacity": 0.5
         },
         "mode": "markers",
         "name": "b",
         "text": [
          "b0@0.0",
          "b1@1.3",
          "b2@1.4",
          "b3@2.1"
         ],
         "type": "scatter3d",
         "uid": "4affff74-f0d1-44cc-ac53-69cd34b53030",
         "x": [
          0.24940688955415688,
          0.08824667511389553,
          -0.08829828794976728,
          -0.24935527671828506
         ],
         "y": [
          0.9999999999999999,
          0.35374101927336643,
          -0.35408652445771693,
          -0.9996544948156495
         ],
         "z": [
          0,
          1.3,
          1.4,
          2.1
         ]
        },
        {
         "hoverinfo": "none",
         "line": {
          "color": "rgb(55,126,184)",
          "dash": "dot"
         },
         "mode": "lines",
         "name": "a",
         "type": "scatter3d",
         "uid": "4b3a0d58-ef13-4626-9bcb-2b6e977d101e",
         "x": [
          null,
          0.08824667511389553,
          0.08824667511389554,
          0.08824667511389554,
          0.0882466751138955,
          0.08824667511389553,
          0.08824667511389554,
          0.08824667511389554,
          0.08824667511389551,
          0.08824667511389554,
          0.08824667511389554,
          0.08824667511389553,
          0.08824667511389553,
          0.08824667511389553,
          0.08824667511389553,
          0.08824667511389553,
          0.08824667511389553,
          0.08824667511389553,
          0.08824667511389553,
          0.08824667511389553,
          0.08824667511389553,
          null,
          -0.08829828794976728,
          -0.08829828794976728,
          -0.08829828794976728,
          -0.08829828794976727,
          -0.08829828794976727,
          -0.0882982879497673,
          -0.0882982879497673,
          -0.08829828794976727,
          -0.08829828794976728,
          -0.08829828794976731,
          -0.08829828794976728,
          -0.08829828794976728,
          -0.08829828794976728,
          -0.08829828794976728,
          -0.08829828794976728,
          -0.08829828794976728,
          -0.08829828794976728,
          -0.08829828794976728,
          -0.08829828794976727,
          -0.08829828794976728,
          null,
          -0.24935527671828506,
          -0.2493552767182851,
          -0.24935527671828506,
          -0.24935527671828503,
          -0.24935527671828508,
          -0.24935527671828508,
          -0.24935527671828508,
          -0.24935527671828506,
          -0.24935527671828506,
          -0.2493552767182851,
          -0.24935527671828506,
          -0.24935527671828506,
          -0.2493552767182851,
          -0.24935527671828506,
          -0.24935527671828506,
          -0.24935527671828506,
          -0.24935527671828506,
          -0.24935527671828506,
          -0.24935527671828506,
          -0.24935527671828506
         ],
         "y": [
          null,
          0.35374101927336643,
          0.3537410192733665,
          0.35374101927336643,
          0.3537410192733663,
          0.35374101927336643,
          0.3537410192733665,
          0.3537410192733665,
          0.35374101927336643,
          0.35374101927336643,
          0.3537410192733665,
          0.35374101927336643,
          0.35374101927336643,
          0.35374101927336643,
          0.35374101927336643,
          0.35374101927336643,
          0.35374101927336643,
          0.35374101927336643,
          0.35374101927336643,
          0.35374101927336643,
          0.35374101927336643,
          null,
          -0.35408652445771693,
          -0.354086524457717,
          -0.35408652445771693,
          -0.35408652445771693,
          -0.354086524457717,
          -0.354086524457717,
          -0.35408652445771693,
          -0.3540865244577169,
          -0.35408652445771693,
          -0.354086524457717,
          -0.3540865244577169,
          -0.3540865244577169,
          -0.35408652445771693,
          -0.35408652445771693,
          -0.35408652445771693,
          -0.35408652445771693,
          -0.35408652445771693,
          -0.35408652445771693,
          -0.35408652445771693,
          -0.35408652445771693,
          null,
          -0.9996544948156495,
          -0.9996544948156496,
          -0.9996544948156497,
          -0.9996544948156494,
          -0.9996544948156495,
          -0.9996544948156497,
          -0.9996544948156496,
          -0.9996544948156494,
          -0.9996544948156494,
          -0.9996544948156498,
          -0.9996544948156496,
          -0.9996544948156495,
          -0.9996544948156496,
          -0.9996544948156496,
          -0.9996544948156495,
          -0.9996544948156494,
          -0.9996544948156495,
          -0.9996544948156496,
          -0.9996544948156495,
          -0.9996544948156495
         ],
         "z": [
          null,
          0,
          0.00018953200174952613,
          0.001516256013996209,
          0.0051173640472372064,
          0.012130048111969672,
          0.02369150021869077,
          0.04093891237789765,
          0.06500947660008746,
          0.09704038489575738,
          0.13816882927540455,
          0.18953200174952617,
          0.2522670943286194,
          0.3275112990231812,
          0.41640180784370884,
          0.5200758128006997,
          0.6396705059046509,
          0.776323079166059,
          0.9311707245954217,
          1.1053506342032364,
          1.3,
          null,
          0,
          0.00020411138649948968,
          0.0016328910919959174,
          0.005511007435486222,
          0.01306312873596734,
          0.025513923312436213,
          0.044088059483889774,
          0.07001020556932495,
          0.10450502988773872,
          0.14879720075812797,
          0.2041113864994897,
          0.27167225543082085,
          0.3527044758711182,
          0.4484327161393787,
          0.5600816445545996,
          0.6888759294357778,
          0.8360402391019097,
          1.0027992418719927,
          1.1903776060650237,
          1.4,
          null,
          0,
          0.00030616707974923454,
          0.0024493366379938764,
          0.008266511153229334,
          0.01959469310395101,
          0.03827088496865432,
          0.06613208922583468,
          0.10501530835398745,
          0.1567575448316081,
          0.22319580113719198,
          0.30616707974923457,
          0.40750838314623133,
          0.5290567138066774,
          0.672649074209068,
          0.8401224668318996,
          1.0333138941536668,
          1.2540603586528647,
          1.504198862807989,
          1.7855664090975358,
          2.1
         ]
        },
        {
         "hoverinfo": "none",
         "line": {
          "color": "rgb(55,126,184)"
         },
         "mode": "lines",
         "name": "a",
         "type": "scatter3d",
         "uid": "0aab5d94-101e-4cfd-820d-9237d5784796",
         "x": [],
         "y": [],
         "z": []
        },
        {
         "hoverinfo": "none",
         "line": {
          "color": "rgb(228,26,28)",
          "dash": "dot"
         },
         "mode": "lines",
         "name": "b",
         "type": "scatter3d",
         "uid": "a1cc7892-5451-4790-9ccb-3f4569acf555",
         "x": [],
         "y": [],
         "z": []
        },
        {
         "hoverinfo": "none",
         "line": {
          "color": "rgb(228,26,28)"
         },
         "mode": "lines",
         "name": "b",
         "type": "scatter3d",
         "uid": "d2ab15ac-fcdf-466e-ba9c-d61a30acdd6a",
         "x": [
          null,
          0.24940688955415688,
          0.22527632529841288,
          0.2036833471571969,
          0.18448697812414636,
          0.16754624119289863,
          0.15272015935709093,
          0.13986775561036066,
          0.12884805294634508,
          0.11952007435868163,
          0.11174284284100758,
          0.10537538138696019,
          0.10027671299017688,
          0.09630586064429497,
          0.09332184734295174,
          0.09118369607978452,
          0.08975042984843071,
          0.08888107164252755,
          0.08843464445571242,
          0.08827017128162265,
          0.08824667511389553,
          null,
          0.08824667511389553,
          0.061812548117776325,
          0.03815825141920421,
          0.017129350001648787,
          -0.0014285911514202898,
          -0.01767000705653346,
          -0.03174933273022111,
          -0.04382100318901361,
          -0.0540394534494414,
          -0.06255911852803485,
          -0.06953443344132433,
          -0.07511983320584027,
          -0.07946975283811306,
          -0.08273862735467308,
          -0.08508089177205072,
          -0.08665098110677641,
          -0.08760333037538051,
          -0.08809237459439342,
          -0.08827254878034554,
          -0.08829828794976728,
          null,
          -0.08829828794976728,
          -0.11241339619663532,
          -0.1339925436931024,
          -0.15317661714752417,
          -0.1701065032682563,
          -0.18492308876365426,
          -0.19776726034207373,
          -0.2087799047118703,
          -0.2181019085813996,
          -0.2258741586590173,
          -0.23223754165307883,
          -0.2373329442719399,
          -0.24130125322395624,
          -0.24428335521748323,
          -0.24642013696087656,
          -0.24785248516249192,
          -0.24872128653068482,
          -0.2491674277738109,
          -0.24933179560022578,
          -0.24935527671828506
         ],
         "y": [
          null,
          0.9999999999999999,
          0.9032354609700755,
          0.8166467449345343,
          0.7396685283936886,
          0.6717354878478508,
          0.6122822997973325,
          0.5607436407424455,
          0.5165541871835023,
          0.47914861562081495,
          0.44796160255469525,
          0.4224278244854551,
          0.40198195791340674,
          0.3860586793388622,
          0.3740926652621335,
          0.36551859218353255,
          0.35977113660337146,
          0.3562849750219623,
          0.3544947839396171,
          0.3538352398566478,
          0.35374101927336643,
          null,
          0.35374101927336643,
          0.24775780198049255,
          0.15291984999202982,
          0.0686079819021777,
          -0.005796983694864286,
          -0.07091422820489689,
          -0.1273629330337207,
          -0.17576227958713636,
          -0.21673144927094448,
          -0.2508896234909458,
          -0.27885598365294073,
          -0.3012497111627301,
          -0.31868998742611443,
          -0.3317959938488943,
          -0.34118691183687055,
          -0.34748192279584356,
          -0.3513002081316141,
          -0.35326094924998275,
          -0.35398332755675016,
          -0.35408652445771693,
          null,
          -0.35408652445771693,
          -0.450747598310698,
          -0.5372437296358096,
          -0.6141396374623775,
          -0.6820000408197284,
          -0.7413896587371882,
          -0.7928732102440825,
          -0.8370154143697377,
          -0.8743809901434803,
          -0.9055346565946361,
          -0.9310411327525305,
          -0.9514651376464905,
          -0.9673713903058418,
          -0.9793246097599106,
          -0.9878895150380228,
          -0.9936308251695045,
          -0.9971132591836821,
          -0.9989015361098814,
          -0.9995603749774284,
          -0.9996544948156495
         ],
         "z": [
          null,
          0,
          0.00018953200174952613,
          0.001516256013996209,
          0.0051173640472372064,
          0.012130048111969672,
          0.02369150021869077,
          0.04093891237789765,
          0.06500947660008746,
          0.09704038489575738,
          0.13816882927540455,
          0.18953200174952617,
          0.2522670943286194,
          0.3275112990231812,
          0.41640180784370884,
          0.5200758128006997,
          0.6396705059046509,
          0.776323079166059,
          0.9311707245954217,
          1.1053506342032364,
          1.3,
          null,
          1.3,
          1.3000145793847502,
          1.3001166350779998,
          1.3003936433882486,
          1.3009330806239976,
          1.3018224230937456,
          1.3031491471059922,
          1.3050007289692376,
          1.3074646449919813,
          1.3106283714827236,
          1.3145793847499634,
          1.3194051611022015,
          1.325193176847937,
          1.3320309082956698,
          1.3400058317539,
          1.349205423531127,
          1.3597171599358506,
          1.3716285172765708,
          1.3850269718617874,
          1.4,
          null,
          1.4,
          1.40010205569325,
          1.400816445545998,
          1.402755503717743,
          1.4065315643679839,
          1.4127569616562183,
          1.4220440297419448,
          1.4350051027846624,
          1.4522525149438692,
          1.4743986003790641,
          1.5020556932497449,
          1.5358361277154104,
          1.5763522379355592,
          1.6242163580696893,
          1.6800408222773,
          1.744437964717889,
          1.8180201195509549,
          1.9013996209359962,
          1.995188803032512,
          2.1
         ]
        }
       ],
       "layout": {
        "autosize": true,
        "hovermode": "closest",
        "scene": {
         "aspectmode": "auto",
         "aspectratio": {
          "x": 1,
          "y": 1,
          "z": 1
         },
         "camera": {
          "center": {
           "x": 0,
           "y": 0,
           "z": 0
          },
          "eye": {
           "x": 1.4849490170044326,
           "y": 1.484949017004433,
           "z": 1.4849490170044326
          },
          "projection": {
           "type": "perspective"
          },
          "up": {
           "x": 0,
           "y": 0,
           "z": 1
          }
         },
         "xaxis": {
          "autorange": true,
          "showgrid": false,
          "showline": false,
          "showspikes": false,
          "showticklabels": false,
          "ticks": "",
          "title": {
           "text": ""
          },
          "type": "linear",
          "zeroline": false
         },
         "yaxis": {
          "autorange": true,
          "showgrid": false,
          "showline": false,
          "showspikes": false,
          "showticklabels": false,
          "ticks": "",
          "title": {
           "text": ""
          },
          "type": "linear",
          "zeroline": false
         },
         "zaxis": {
          "autorange": true,
          "showgrid": false,
          "showline": false,
          "showspikes": false,
          "showticklabels": false,
          "ticks": "",
          "title": {
           "text": ""
          },
          "type": "linear",
          "zeroline": false
         }
        },
        "title": {
         "text": "Temporal graph"
        }
       }
      },
      "image/png": "[encoded data removed]"
     },
     "metadata": {},
     "output_type": "display_data"
    }
   ],
   "source": [
    "import occ.vis.occasion_graph\n",
    "g = occ.vis.occasion_graph.generate_causal_graph_figure(occasion_graph, medium_graph)\n",
    "py.iplot(g)"
   ]
  },
  {
   "cell_type": "markdown",
   "metadata": {
    "pycharm": {
     "is_executing": false,
     "name": "#%% md\n"
    }
   },
   "source": [
    "## visualise with `occdash`\n",
    "\n",
    "View and interact with simulation results. This only works with simulations that have been archived in the run folder (see above).\n",
    "\n",
    "Expects redis to be running on port 6379 for caching. Start using:\n",
    "\n",
    "    $ redis-server\n",
    "    \n",
    "Start the dash application (from occmodeler repo dir):\n",
    "\n",
    "    $ python path/to/occdash/app.py\n",
    "    \n",
    "To view a particular run use http://127.0.0.1:8050/run-1 . To view the last run (collected to `occ.sim.BASEDIR`) open http://127.0.0.1:8050/run-last and reload to update. Note that `occ.sim.run()` will trigger a reload of occdash if it is open. It does this by calling `occdash.manage.reload_dash_server()` which uses a very heavy handed way to hot re-serve the page and force the client to reload.\n",
    "   \n",
    "Dash sometimes gets stuck running in the background. This alias is useful to kill it:\n",
    " \n",
    "    alias killdash='kill -9 `lsof -i:8050 -t`'\n"
   ]
  }
 ],
 "metadata": {
  "kernelspec": {
   "display_name": "Python 3",
   "language": "python",
   "name": "python3"
  },
  "language_info": {
   "codemirror_mode": {
    "name": "ipython",
    "version": 3
   },
   "file_extension": ".py",
   "mimetype": "text/x-python",
   "name": "python",
   "nbconvert_exporter": "python",
   "pygments_lexer": "ipython3",
   "version": "3.7.2"
  },
  "pycharm": {
   "stem_cell": {
    "cell_type": "raw",
    "metadata": {
     "collapsed": false
    },
    "source": []
   }
  }
 },
 "nbformat": 4,
 "nbformat_minor": 2
}
