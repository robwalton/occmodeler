{
 "cells": [
  {
   "cell_type": "markdown",
   "metadata": {},
   "source": [
    "# occmodeler tutorial\n",
    "\n",
    "## Setup the python path\n",
    "\n",
    "Add `pyspike` to the python path if necessary (this will be streamlined once `occmodeler` is properly packaged)\n"
   ]
  },
  {
   "cell_type": "code",
   "execution_count": 35,
   "metadata": {
    "pycharm": {
     "is_executing": false,
     "name": "#%%\n"
    }
   },
   "outputs": [
    {
     "name": "stdout",
     "output_type": "stream",
     "text": [
      "The autoreload extension is already loaded. To reload it, use:\n",
      "  %reload_ext autoreload\n",
      "'pyspike' already on python path!\n",
      "'occdash' already on python path!\n"
     ]
    }
   ],
   "source": [
    "%load_ext autoreload\n",
    "%autoreload 2\n",
    "\n",
    "import plotly.offline as py\n",
    "import occ\n",
    "occ.add_pyspike_to_path()\n",
    "occ.add_occdash_to_path()\n"
   ]
  },
  {
   "cell_type": "markdown",
   "metadata": {
    "pycharm": {
     "name": "#%% md\n"
    }
   },
   "source": [
    "## Occasion modeling primitives\n",
    "\n",
    "### Primitives from WebSci'19 paper\n",
    "Some of the models built in the WebSci'19 paper act as primitive transitions. These were:\n",
    "\n",
    "| Model | Primitive | `occ.model.transitions` |\n",
    "| --- | --- | --- |\n",
    "| Diffusion | Follow one neighbour | `FollowNeighbour(src, dst, rate)` |\n",
    "| Diffusion with echo | Follow two neighbours | `FollowTwoNeighbours(src, dst, rate)`\n",
    "| Issue conflation model | Modulated internal | `ModulatedInternal(src, dst, internal_mod)`\n",
    "\n",
    "Where `src` is the place in $Unit$ to move a token from and `dst` is the destination place to move it to. These pair highlight the so far un-discussed state-machine type functionality in $Unit$.\n",
    "`rate` is the $\\lambda$ Poisson firing rate in firings per time unit.\n",
    "`internal_mod` is the place internal to $Unit$ which enambles the internal state transition from `src` to `dst`.\n",
    "\n",
    "### Creating primitives\n",
    "\n",
    "The encoding of these transitions is currently made straight to the CANDL file format used by Spike and is not worth describing here. In the future this mapping will be through a coloured Petri net representation and will be presented here. This will allow `occmodeler` users to check existing occasion modeling primitives and to build new ones.\n",
    "\n",
    "\n"
   ]
  },
  {
   "cell_type": "markdown",
   "metadata": {},
   "source": [
    "## Building models from primitives\n",
    "\n",
    "The `occ.model` package contains code for building models at a higher level of abstraction than coloured petri nets.\n",
    "\n",
    "### Model each repeating unit\n",
    "The primitives in `occ.model.transitions` just introduced depend on the colour (or type) $Unit$, with which to represent each repeating Unit, and on variables of type $Unit$ with which to label input and output arcs:\n"
   ]
  },
  {
   "cell_type": "code",
   "execution_count": 9,
   "metadata": {
    "pycharm": {
     "is_executing": false,
     "name": "#%%\n"
    }
   },
   "outputs": [],
   "source": [
    "import occ.model\n",
    "\n",
    "unit_colour = occ.model.Color('Unit')\n",
    "\n",
    "u = unit_colour.var('u')  # Used to identify arcs belonging to am instance of Unit\n",
    "n1 = unit_colour.var('n1')  # Used to identify a units potential first neighbour\n",
    "n2 = unit_colour.var('n2')  # Used to identify a units potential second neighbour"
   ]
  },
  {
   "cell_type": "markdown",
   "metadata": {
    "pycharm": {
     "name": "#%% md\n"
    }
   },
   "source": [
    "\n",
    "A model requires places of color $Unit$. Here the initial markings are set so that units 1 and 2 start in place $a$ and unit 0 starts in place $b$ (we will look at an oftent more convenient way of configuring the initial marking later):"
   ]
  },
  {
   "cell_type": "code",
   "execution_count": 10,
   "metadata": {
    "pycharm": {
     "is_executing": false,
     "name": "#%%\n"
    }
   },
   "outputs": [],
   "source": [
    "a = unit_colour.place('a', occ.model.marking([1, 2, 3]))\n",
    "b = unit_colour.place('b', occ.model.marking([0]))"
   ]
  },
  {
   "cell_type": "markdown",
   "metadata": {
    "pycharm": {
     "name": "#%% md\n"
    }
   },
   "source": [
    "\n",
    "\n",
    "To create a model we include these in a `UnitModel` (there is currently unabstracted complexity here as instances of UnitModel will always required the colour $Unit$ and the variables `u` and `n1`):"
   ]
  },
  {
   "cell_type": "code",
   "execution_count": 11,
   "metadata": {
    "pycharm": {
     "is_executing": false,
     "name": "#%%\n"
    }
   },
   "outputs": [],
   "source": [
    "m = occ.model.UnitModel(\n",
    "    name='tutorial - diffusion model',\n",
    "    colors=[unit_colour],\n",
    "    variables=[u, n1],\n",
    "    places=[a, b]\n",
    ")\n"
   ]
  },
  {
   "cell_type": "markdown",
   "metadata": {
    "pycharm": {
     "name": "#%% md\n"
    }
   },
   "source": [
    "To reproduce the simple diffusion model of Figures 3, 4 and 5a, we need only add a single transition from a ($x_0$ in the text) and b ($x_a$) in the text we add a single FollowNeighbour transition from `a` to `b`.\n"
   ]
  },
  {
   "cell_type": "code",
   "execution_count": 12,
   "metadata": {
    "pycharm": {
     "is_executing": false,
     "name": "#%%\n"
    }
   },
   "outputs": [],
   "source": [
    "m.add_transition(occ.model.follow1(a, b))\n"
   ]
  },
  {
   "cell_type": "markdown",
   "metadata": {
    "pycharm": {
     "name": "#%% md\n"
    }
   },
   "source": [
    "The `add_transition()` method on `UnitModel` will create a place if necessary. It will also check that the colors and variables required for the transition are available.\n",
    "\n",
    "### Create a medium graph\n",
    "To create a graph medium with three connected nodes ${n_{1} \\longleftrightarrow n_{2} \\longleftrightarrow n_{3}}$.\n"
   ]
  },
  {
   "cell_type": "code",
   "execution_count": 13,
   "metadata": {
    "pycharm": {
     "is_executing": false,
     "name": "#%%\n"
    }
   },
   "outputs": [],
   "source": [
    "import networkx as nx\n",
    "medium_graph = nx.Graph([(0, 1), (1, 2), (2, 3)])"
   ]
  },
  {
   "cell_type": "markdown",
   "metadata": {
    "pycharm": {
     "name": "#%% md\n"
    }
   },
   "source": [
    "Create the system model by embedding the repeating unit on the medium graph:"
   ]
  },
  {
   "cell_type": "code",
   "execution_count": 14,
   "metadata": {
    "pycharm": {
     "is_executing": false,
     "name": "#%%\n"
    }
   },
   "outputs": [
    {
     "data": {
      "text/plain": [
       "SystemModel(unit=<pyspike.model.UnitModel object at 0x121d10940>, network=<networkx.classes.graph.Graph object at 0x121d10be0>, network_name='four node linear graph', marking=None)"
      ]
     },
     "execution_count": 14,
     "metadata": {},
     "output_type": "execute_result"
    }
   ],
   "source": [
    "system_model = occ.model.SystemModel(m, medium_graph, 'four node linear graph')\n",
    "system_model"
   ]
  },
  {
   "cell_type": "markdown",
   "metadata": {
    "pycharm": {
     "name": "#%% md\n"
    }
   },
   "source": [
    "- [ ] TODO: `occ.model.SystemModel` takes a name for the graph which should be taken from the graph itself.\n",
    "\n",
    "## Simulation\n",
    "\n",
    "The `occ.sim` package contains code for simulating system models."
   ]
  },
  {
   "cell_type": "code",
   "execution_count": 16,
   "metadata": {
    "pycharm": {
     "is_executing": false,
     "name": "#%%\n"
    }
   },
   "outputs": [
    {
     "name": "stderr",
     "output_type": "stream",
     "text": [
      "INFO:root:Using temporary directory:/var/folders/rb/z1vh8mr52xvc_y0yx4bw20jh0000gn/T/tmpa_t351tt\n",
      "INFO:root:Calling: '['~/bin/spike exe -f input/conf.spc']' from cwd: /var/folders/rb/z1vh8mr52xvc_y0yx4bw20jh0000gn/T/tmpa_t351tt/spike\n",
      "INFO:root:Call to Spike complete\n"
     ]
    },
    {
     "data": {
      "text/plain": [
       "SimulationResult: temporary run"
      ]
     },
     "execution_count": 16,
     "metadata": {},
     "output_type": "execute_result"
    }
   ],
   "source": [
    "import occ.sim\n",
    "sim_args = occ.sim.SimArgs(start=0, stop=10, step=.1, runs=1, repeat_sim=1)\n",
    "sim_result = occ.sim.run_in_tmp(system_model, sim_args)\n",
    "sim_result\n"
   ]
  },
  {
   "cell_type": "markdown",
   "metadata": {
    "pycharm": {
     "name": "#%% md\n"
    }
   },
   "source": [
    "### Managing simulation runs\n",
    "\n",
    "Above we used `occ.sim.run_in_tmp()` to run a simulation. This runs Spike up in a tempoary directory, loads the resulting output and returns an `occ.model.SimulationResult`. Alternatively `occ.sim.run_in_dir(a_dir)` will run the simulation in a given directory, which can be useful for debugging.\n",
    "\n",
    "Most usefully, `occ.sim.run()`, will create a sequentially numbered list of directories for each run within a `basedir`. `basedir` defaults to the top level of the occmodeler repository for now:\n"
   ]
  },
  {
   "cell_type": "code",
   "execution_count": 38,
   "metadata": {
    "pycharm": {
     "is_executing": false,
     "name": "#%%\n"
    }
   },
   "outputs": [
    {
     "name": "stderr",
     "output_type": "stream",
     "text": [
      "INFO:root:Calling: '['~/bin/spike exe -f input/conf.spc']' from cwd: /Users/walton/Documents/DPhil/code/occmodeller/runs/21/spike\n"
     ]
    },
    {
     "name": "stdout",
     "output_type": "stream",
     "text": [
      "/Users/walton/Documents/DPhil/code/occmodeller/runs\n"
     ]
    },
    {
     "name": "stderr",
     "output_type": "stream",
     "text": [
      "INFO:root:Call to Spike complete\n"
     ]
    },
    {
     "data": {
      "text/plain": [
       "SimulationResult: run['num']=21. http://127.0.0.1:8050/run-21"
      ]
     },
     "execution_count": 38,
     "metadata": {},
     "output_type": "execute_result"
    }
   ],
   "source": [
    "print(occ.sim.BASEDIR)\n",
    "occ.sim.run(system_model, sim_args)"
   ]
  },
  {
   "cell_type": "markdown",
   "metadata": {
    "pycharm": {
     "name": "#%% md\n"
    }
   },
   "source": [
    "Finally, if you've used `occ.sim.run_in_tmp()` and seen something interesting the results may be archived by calling `occ.save(sim_result)`, and you load results with `occ.sim.load(run_num)`"
   ]
  },
  {
   "cell_type": "markdown",
   "metadata": {
    "pycharm": {
     "name": "#%% md\n"
    }
   },
   "source": [
    "## Simulation results"
   ]
  },
  {
   "cell_type": "markdown",
   "metadata": {},
   "source": [
    "The scans above return `occ.sim.SimulationResult` object."
   ]
  },
  {
   "cell_type": "markdown",
   "metadata": {
    "pycharm": {
     "name": "#%% md\n"
    }
   },
   "source": [
    "### Raw time series data\n",
    "A time series of place counts and transitions are loaded as pandas data frames:"
   ]
  },
  {
   "cell_type": "code",
   "execution_count": 18,
   "metadata": {
    "pycharm": {
     "name": "#%%\n"
    }
   },
   "outputs": [
    {
     "data": {
      "text/html": [
       "<div>\n",
       "<style scoped>\n",
       "    .dataframe tbody tr th:only-of-type {\n",
       "        vertical-align: middle;\n",
       "    }\n",
       "\n",
       "    .dataframe tbody tr th {\n",
       "        vertical-align: top;\n",
       "    }\n",
       "\n",
       "    .dataframe thead th {\n",
       "        text-align: right;\n",
       "    }\n",
       "</style>\n",
       "<table border=\"1\" class=\"dataframe\">\n",
       "  <thead>\n",
       "    <tr style=\"text-align: right;\">\n",
       "      <th></th>\n",
       "      <th>Time</th>\n",
       "      <th>a</th>\n",
       "      <th>a_0</th>\n",
       "      <th>a_1</th>\n",
       "      <th>a_2</th>\n",
       "      <th>a_3</th>\n",
       "      <th>b</th>\n",
       "      <th>b_0</th>\n",
       "      <th>b_1</th>\n",
       "      <th>b_2</th>\n",
       "      <th>b_3</th>\n",
       "    </tr>\n",
       "  </thead>\n",
       "  <tbody>\n",
       "    <tr>\n",
       "      <th>0</th>\n",
       "      <td>0.0</td>\n",
       "      <td>3</td>\n",
       "      <td>0</td>\n",
       "      <td>1</td>\n",
       "      <td>1</td>\n",
       "      <td>1</td>\n",
       "      <td>1</td>\n",
       "      <td>1</td>\n",
       "      <td>0</td>\n",
       "      <td>0</td>\n",
       "      <td>0</td>\n",
       "    </tr>\n",
       "    <tr>\n",
       "      <th>1</th>\n",
       "      <td>0.1</td>\n",
       "      <td>3</td>\n",
       "      <td>0</td>\n",
       "      <td>1</td>\n",
       "      <td>1</td>\n",
       "      <td>1</td>\n",
       "      <td>1</td>\n",
       "      <td>1</td>\n",
       "      <td>0</td>\n",
       "      <td>0</td>\n",
       "      <td>0</td>\n",
       "    </tr>\n",
       "    <tr>\n",
       "      <th>2</th>\n",
       "      <td>0.2</td>\n",
       "      <td>3</td>\n",
       "      <td>0</td>\n",
       "      <td>1</td>\n",
       "      <td>1</td>\n",
       "      <td>1</td>\n",
       "      <td>1</td>\n",
       "      <td>1</td>\n",
       "      <td>0</td>\n",
       "      <td>0</td>\n",
       "      <td>0</td>\n",
       "    </tr>\n",
       "    <tr>\n",
       "      <th>3</th>\n",
       "      <td>0.3</td>\n",
       "      <td>3</td>\n",
       "      <td>0</td>\n",
       "      <td>1</td>\n",
       "      <td>1</td>\n",
       "      <td>1</td>\n",
       "      <td>1</td>\n",
       "      <td>1</td>\n",
       "      <td>0</td>\n",
       "      <td>0</td>\n",
       "      <td>0</td>\n",
       "    </tr>\n",
       "    <tr>\n",
       "      <th>4</th>\n",
       "      <td>0.4</td>\n",
       "      <td>3</td>\n",
       "      <td>0</td>\n",
       "      <td>1</td>\n",
       "      <td>1</td>\n",
       "      <td>1</td>\n",
       "      <td>1</td>\n",
       "      <td>1</td>\n",
       "      <td>0</td>\n",
       "      <td>0</td>\n",
       "      <td>0</td>\n",
       "    </tr>\n",
       "  </tbody>\n",
       "</table>\n",
       "</div>"
      ],
      "text/plain": [
       "   Time  a  a_0  a_1  a_2  a_3  b  b_0  b_1  b_2  b_3\n",
       "0   0.0  3    0    1    1    1  1    1    0    0    0\n",
       "1   0.1  3    0    1    1    1  1    1    0    0    0\n",
       "2   0.2  3    0    1    1    1  1    1    0    0    0\n",
       "3   0.3  3    0    1    1    1  1    1    0    0    0\n",
       "4   0.4  3    0    1    1    1  1    1    0    0    0"
      ]
     },
     "execution_count": 18,
     "metadata": {},
     "output_type": "execute_result"
    }
   ],
   "source": [
    "(sim_result.raw_places).sort_index(axis=1).head()"
   ]
  },
  {
   "cell_type": "code",
   "execution_count": 19,
   "metadata": {
    "pycharm": {
     "name": "#%%\n"
    }
   },
   "outputs": [
    {
     "data": {
      "text/html": [
       "<div>\n",
       "<style scoped>\n",
       "    .dataframe tbody tr th:only-of-type {\n",
       "        vertical-align: middle;\n",
       "    }\n",
       "\n",
       "    .dataframe tbody tr th {\n",
       "        vertical-align: top;\n",
       "    }\n",
       "\n",
       "    .dataframe thead th {\n",
       "        text-align: right;\n",
       "    }\n",
       "</style>\n",
       "<table border=\"1\" class=\"dataframe\">\n",
       "  <thead>\n",
       "    <tr style=\"text-align: right;\">\n",
       "      <th></th>\n",
       "      <th>Time</th>\n",
       "      <th>f1ab</th>\n",
       "      <th>f1ab_0_1</th>\n",
       "      <th>f1ab_1_0</th>\n",
       "      <th>f1ab_1_2</th>\n",
       "      <th>f1ab_2_1</th>\n",
       "      <th>f1ab_2_3</th>\n",
       "      <th>f1ab_3_2</th>\n",
       "    </tr>\n",
       "  </thead>\n",
       "  <tbody>\n",
       "    <tr>\n",
       "      <th>0</th>\n",
       "      <td>0.0</td>\n",
       "      <td>0</td>\n",
       "      <td>0</td>\n",
       "      <td>0</td>\n",
       "      <td>0</td>\n",
       "      <td>0</td>\n",
       "      <td>0</td>\n",
       "      <td>0</td>\n",
       "    </tr>\n",
       "    <tr>\n",
       "      <th>1</th>\n",
       "      <td>0.1</td>\n",
       "      <td>0</td>\n",
       "      <td>0</td>\n",
       "      <td>0</td>\n",
       "      <td>0</td>\n",
       "      <td>0</td>\n",
       "      <td>0</td>\n",
       "      <td>0</td>\n",
       "    </tr>\n",
       "    <tr>\n",
       "      <th>2</th>\n",
       "      <td>0.2</td>\n",
       "      <td>0</td>\n",
       "      <td>0</td>\n",
       "      <td>0</td>\n",
       "      <td>0</td>\n",
       "      <td>0</td>\n",
       "      <td>0</td>\n",
       "      <td>0</td>\n",
       "    </tr>\n",
       "    <tr>\n",
       "      <th>3</th>\n",
       "      <td>0.3</td>\n",
       "      <td>0</td>\n",
       "      <td>0</td>\n",
       "      <td>0</td>\n",
       "      <td>0</td>\n",
       "      <td>0</td>\n",
       "      <td>0</td>\n",
       "      <td>0</td>\n",
       "    </tr>\n",
       "    <tr>\n",
       "      <th>4</th>\n",
       "      <td>0.4</td>\n",
       "      <td>0</td>\n",
       "      <td>0</td>\n",
       "      <td>0</td>\n",
       "      <td>0</td>\n",
       "      <td>0</td>\n",
       "      <td>0</td>\n",
       "      <td>0</td>\n",
       "    </tr>\n",
       "  </tbody>\n",
       "</table>\n",
       "</div>"
      ],
      "text/plain": [
       "   Time  f1ab  f1ab_0_1  f1ab_1_0  f1ab_1_2  f1ab_2_1  f1ab_2_3  f1ab_3_2\n",
       "0   0.0     0         0         0         0         0         0         0\n",
       "1   0.1     0         0         0         0         0         0         0\n",
       "2   0.2     0         0         0         0         0         0         0\n",
       "3   0.3     0         0         0         0         0         0         0\n",
       "4   0.4     0         0         0         0         0         0         0"
      ]
     },
     "execution_count": 19,
     "metadata": {},
     "output_type": "execute_result"
    }
   ],
   "source": [
    "(sim_result.raw_transitions).sort_index(axis=1).head()"
   ]
  },
  {
   "cell_type": "markdown",
   "metadata": {},
   "source": [
    "### Tidy time series data\n",
    "The `occ.sim.SimulationResult` also include the place and transition data in [tidy](https://en.wikipedia.org/wiki/Tidy_data) form:"
   ]
  },
  {
   "cell_type": "code",
   "execution_count": 20,
   "metadata": {},
   "outputs": [
    {
     "data": {
      "text/html": [
       "<div>\n",
       "<style scoped>\n",
       "    .dataframe tbody tr th:only-of-type {\n",
       "        vertical-align: middle;\n",
       "    }\n",
       "\n",
       "    .dataframe tbody tr th {\n",
       "        vertical-align: top;\n",
       "    }\n",
       "\n",
       "    .dataframe thead th {\n",
       "        text-align: right;\n",
       "    }\n",
       "</style>\n",
       "<table border=\"1\" class=\"dataframe\">\n",
       "  <thead>\n",
       "    <tr style=\"text-align: right;\">\n",
       "      <th></th>\n",
       "      <th>tstep</th>\n",
       "      <th>time</th>\n",
       "      <th>type</th>\n",
       "      <th>name</th>\n",
       "      <th>num</th>\n",
       "      <th>count</th>\n",
       "    </tr>\n",
       "  </thead>\n",
       "  <tbody>\n",
       "    <tr>\n",
       "      <th>100</th>\n",
       "      <td>0</td>\n",
       "      <td>0.0</td>\n",
       "      <td>place</td>\n",
       "      <td>a</td>\n",
       "      <td>3.0</td>\n",
       "      <td>1</td>\n",
       "    </tr>\n",
       "    <tr>\n",
       "      <th>101</th>\n",
       "      <td>1</td>\n",
       "      <td>0.1</td>\n",
       "      <td>place</td>\n",
       "      <td>a</td>\n",
       "      <td>3.0</td>\n",
       "      <td>1</td>\n",
       "    </tr>\n",
       "    <tr>\n",
       "      <th>102</th>\n",
       "      <td>2</td>\n",
       "      <td>0.2</td>\n",
       "      <td>place</td>\n",
       "      <td>a</td>\n",
       "      <td>3.0</td>\n",
       "      <td>1</td>\n",
       "    </tr>\n",
       "    <tr>\n",
       "      <th>103</th>\n",
       "      <td>3</td>\n",
       "      <td>0.3</td>\n",
       "      <td>place</td>\n",
       "      <td>a</td>\n",
       "      <td>3.0</td>\n",
       "      <td>1</td>\n",
       "    </tr>\n",
       "    <tr>\n",
       "      <th>104</th>\n",
       "      <td>4</td>\n",
       "      <td>0.4</td>\n",
       "      <td>place</td>\n",
       "      <td>a</td>\n",
       "      <td>3.0</td>\n",
       "      <td>1</td>\n",
       "    </tr>\n",
       "  </tbody>\n",
       "</table>\n",
       "</div>"
      ],
      "text/plain": [
       "     tstep  time   type name  num  count\n",
       "100      0   0.0  place    a  3.0      1\n",
       "101      1   0.1  place    a  3.0      1\n",
       "102      2   0.2  place    a  3.0      1\n",
       "103      3   0.3  place    a  3.0      1\n",
       "104      4   0.4  place    a  3.0      1"
      ]
     },
     "execution_count": 20,
     "metadata": {},
     "output_type": "execute_result"
    }
   ],
   "source": [
    "(sim_result.places).head()"
   ]
  },
  {
   "cell_type": "code",
   "execution_count": 21,
   "metadata": {},
   "outputs": [
    {
     "data": {
      "text/html": [
       "<div>\n",
       "<style scoped>\n",
       "    .dataframe tbody tr th:only-of-type {\n",
       "        vertical-align: middle;\n",
       "    }\n",
       "\n",
       "    .dataframe tbody tr th {\n",
       "        vertical-align: top;\n",
       "    }\n",
       "\n",
       "    .dataframe thead th {\n",
       "        text-align: right;\n",
       "    }\n",
       "</style>\n",
       "<table border=\"1\" class=\"dataframe\">\n",
       "  <thead>\n",
       "    <tr style=\"text-align: right;\">\n",
       "      <th></th>\n",
       "      <th>tstep</th>\n",
       "      <th>time</th>\n",
       "      <th>type</th>\n",
       "      <th>name</th>\n",
       "      <th>unit</th>\n",
       "      <th>neighbour</th>\n",
       "      <th>neighbour2</th>\n",
       "      <th>count</th>\n",
       "    </tr>\n",
       "  </thead>\n",
       "  <tbody>\n",
       "    <tr>\n",
       "      <th>100</th>\n",
       "      <td>0</td>\n",
       "      <td>0.0</td>\n",
       "      <td>transition</td>\n",
       "      <td>f1ab</td>\n",
       "      <td>2.0</td>\n",
       "      <td>1.0</td>\n",
       "      <td>NaN</td>\n",
       "      <td>0</td>\n",
       "    </tr>\n",
       "    <tr>\n",
       "      <th>101</th>\n",
       "      <td>1</td>\n",
       "      <td>0.1</td>\n",
       "      <td>transition</td>\n",
       "      <td>f1ab</td>\n",
       "      <td>2.0</td>\n",
       "      <td>1.0</td>\n",
       "      <td>NaN</td>\n",
       "      <td>0</td>\n",
       "    </tr>\n",
       "    <tr>\n",
       "      <th>102</th>\n",
       "      <td>2</td>\n",
       "      <td>0.2</td>\n",
       "      <td>transition</td>\n",
       "      <td>f1ab</td>\n",
       "      <td>2.0</td>\n",
       "      <td>1.0</td>\n",
       "      <td>NaN</td>\n",
       "      <td>0</td>\n",
       "    </tr>\n",
       "    <tr>\n",
       "      <th>103</th>\n",
       "      <td>3</td>\n",
       "      <td>0.3</td>\n",
       "      <td>transition</td>\n",
       "      <td>f1ab</td>\n",
       "      <td>2.0</td>\n",
       "      <td>1.0</td>\n",
       "      <td>NaN</td>\n",
       "      <td>0</td>\n",
       "    </tr>\n",
       "    <tr>\n",
       "      <th>104</th>\n",
       "      <td>4</td>\n",
       "      <td>0.4</td>\n",
       "      <td>transition</td>\n",
       "      <td>f1ab</td>\n",
       "      <td>2.0</td>\n",
       "      <td>1.0</td>\n",
       "      <td>NaN</td>\n",
       "      <td>0</td>\n",
       "    </tr>\n",
       "  </tbody>\n",
       "</table>\n",
       "</div>"
      ],
      "text/plain": [
       "     tstep  time        type  name  unit  neighbour  neighbour2  count\n",
       "100      0   0.0  transition  f1ab   2.0        1.0         NaN      0\n",
       "101      1   0.1  transition  f1ab   2.0        1.0         NaN      0\n",
       "102      2   0.2  transition  f1ab   2.0        1.0         NaN      0\n",
       "103      3   0.3  transition  f1ab   2.0        1.0         NaN      0\n",
       "104      4   0.4  transition  f1ab   2.0        1.0         NaN      0"
      ]
     },
     "execution_count": 21,
     "metadata": {},
     "output_type": "execute_result"
    }
   ],
   "source": [
    "(sim_result.transitions).head()"
   ]
  },
  {
   "cell_type": "markdown",
   "metadata": {
    "pycharm": {
     "name": "#%% md\n"
    }
   },
   "source": [
    "## Data reduction\n",
    "The `occ.reduction` package includes functions for loading and reducing the data from a simulation run."
   ]
  },
  {
   "cell_type": "code",
   "execution_count": 22,
   "metadata": {},
   "outputs": [
    {
     "data": {
      "text/html": [
       "<div>\n",
       "<style scoped>\n",
       "    .dataframe tbody tr th:only-of-type {\n",
       "        vertical-align: middle;\n",
       "    }\n",
       "\n",
       "    .dataframe tbody tr th {\n",
       "        vertical-align: top;\n",
       "    }\n",
       "\n",
       "    .dataframe thead th {\n",
       "        text-align: right;\n",
       "    }\n",
       "</style>\n",
       "<table border=\"1\" class=\"dataframe\">\n",
       "  <thead>\n",
       "    <tr style=\"text-align: right;\">\n",
       "      <th></th>\n",
       "      <th>tstep</th>\n",
       "      <th>time</th>\n",
       "      <th>type</th>\n",
       "      <th>name</th>\n",
       "      <th>num</th>\n",
       "    </tr>\n",
       "  </thead>\n",
       "  <tbody>\n",
       "    <tr>\n",
       "      <th>200</th>\n",
       "      <td>0</td>\n",
       "      <td>0.0</td>\n",
       "      <td>place</td>\n",
       "      <td>a</td>\n",
       "      <td>1</td>\n",
       "    </tr>\n",
       "    <tr>\n",
       "      <th>400</th>\n",
       "      <td>0</td>\n",
       "      <td>0.0</td>\n",
       "      <td>place</td>\n",
       "      <td>a</td>\n",
       "      <td>2</td>\n",
       "    </tr>\n",
       "    <tr>\n",
       "      <th>100</th>\n",
       "      <td>0</td>\n",
       "      <td>0.0</td>\n",
       "      <td>place</td>\n",
       "      <td>a</td>\n",
       "      <td>3</td>\n",
       "    </tr>\n",
       "    <tr>\n",
       "      <th>600</th>\n",
       "      <td>0</td>\n",
       "      <td>0.0</td>\n",
       "      <td>place</td>\n",
       "      <td>b</td>\n",
       "      <td>0</td>\n",
       "    </tr>\n",
       "    <tr>\n",
       "      <th>709</th>\n",
       "      <td>9</td>\n",
       "      <td>0.9</td>\n",
       "      <td>place</td>\n",
       "      <td>b</td>\n",
       "      <td>1</td>\n",
       "    </tr>\n",
       "    <tr>\n",
       "      <th>810</th>\n",
       "      <td>10</td>\n",
       "      <td>1.0</td>\n",
       "      <td>place</td>\n",
       "      <td>b</td>\n",
       "      <td>2</td>\n",
       "    </tr>\n",
       "    <tr>\n",
       "      <th>314</th>\n",
       "      <td>14</td>\n",
       "      <td>1.4</td>\n",
       "      <td>place</td>\n",
       "      <td>b</td>\n",
       "      <td>3</td>\n",
       "    </tr>\n",
       "  </tbody>\n",
       "</table>\n",
       "</div>"
      ],
      "text/plain": [
       "     tstep  time   type name  num\n",
       "200      0   0.0  place    a    1\n",
       "400      0   0.0  place    a    2\n",
       "100      0   0.0  place    a    3\n",
       "600      0   0.0  place    b    0\n",
       "709      9   0.9  place    b    1\n",
       "810     10   1.0  place    b    2\n",
       "314     14   1.4  place    b    3"
      ]
     },
     "execution_count": 22,
     "metadata": {},
     "output_type": "execute_result"
    }
   ],
   "source": [
    "import occ.reduction\n",
    "place_change_events = occ.reduction.generate_place_increased_events(sim_result.places)\n",
    "place_change_events"
   ]
  },
  {
   "cell_type": "code",
   "execution_count": 23,
   "metadata": {},
   "outputs": [
    {
     "data": {
      "text/html": [
       "<div>\n",
       "<style scoped>\n",
       "    .dataframe tbody tr th:only-of-type {\n",
       "        vertical-align: middle;\n",
       "    }\n",
       "\n",
       "    .dataframe tbody tr th {\n",
       "        vertical-align: top;\n",
       "    }\n",
       "\n",
       "    .dataframe thead th {\n",
       "        text-align: right;\n",
       "    }\n",
       "</style>\n",
       "<table border=\"1\" class=\"dataframe\">\n",
       "  <thead>\n",
       "    <tr style=\"text-align: right;\">\n",
       "      <th></th>\n",
       "      <th>tstep</th>\n",
       "      <th>time</th>\n",
       "      <th>type</th>\n",
       "      <th>name</th>\n",
       "      <th>unit</th>\n",
       "      <th>neighbour</th>\n",
       "      <th>neighbour2</th>\n",
       "      <th>count</th>\n",
       "    </tr>\n",
       "  </thead>\n",
       "  <tbody>\n",
       "    <tr>\n",
       "      <th>409</th>\n",
       "      <td>9</td>\n",
       "      <td>0.9</td>\n",
       "      <td>transition</td>\n",
       "      <td>f1ab</td>\n",
       "      <td>1.0</td>\n",
       "      <td>0.0</td>\n",
       "      <td>NaN</td>\n",
       "      <td>1</td>\n",
       "    </tr>\n",
       "    <tr>\n",
       "      <th>110</th>\n",
       "      <td>10</td>\n",
       "      <td>1.0</td>\n",
       "      <td>transition</td>\n",
       "      <td>f1ab</td>\n",
       "      <td>2.0</td>\n",
       "      <td>1.0</td>\n",
       "      <td>NaN</td>\n",
       "      <td>1</td>\n",
       "    </tr>\n",
       "    <tr>\n",
       "      <th>514</th>\n",
       "      <td>14</td>\n",
       "      <td>1.4</td>\n",
       "      <td>transition</td>\n",
       "      <td>f1ab</td>\n",
       "      <td>3.0</td>\n",
       "      <td>2.0</td>\n",
       "      <td>NaN</td>\n",
       "      <td>1</td>\n",
       "    </tr>\n",
       "  </tbody>\n",
       "</table>\n",
       "</div>"
      ],
      "text/plain": [
       "     tstep  time        type  name  unit  neighbour  neighbour2  count\n",
       "409      9   0.9  transition  f1ab   1.0        0.0         NaN      1\n",
       "110     10   1.0  transition  f1ab   2.0        1.0         NaN      1\n",
       "514     14   1.4  transition  f1ab   3.0        2.0         NaN      1"
      ]
     },
     "execution_count": 23,
     "metadata": {},
     "output_type": "execute_result"
    }
   ],
   "source": [
    "transition_events = occ.reduction.generate_transition_events(sim_result.transitions)\n",
    "transition_events"
   ]
  },
  {
   "cell_type": "markdown",
   "metadata": {},
   "source": [
    "## Visualisation\n",
    "\n",
    "### Occasion graph\n",
    "\n",
    "Create an causal occasion graph and plot in 2d and then 3d."
   ]
  },
  {
   "cell_type": "code",
   "execution_count": 32,
   "metadata": {
    "pycharm": {
     "name": "#%%\n"
    }
   },
   "outputs": [
    {
     "data": {
      "image/png": "[encoded data removed]",
      "text/plain": [
       "<Figure size 432x288 with 1 Axes>"
      ]
     },
     "metadata": {},
     "output_type": "display_data"
    }
   ],
   "source": [
    "occasion_graph = occ.reduction.generate_causal_graph(\n",
    "        place_change_events, transition_events, time_per_step=sim_result.sim_args.step)\n",
    "\n",
    "import networkx as nx\n",
    "nx.draw(occasion_graph, with_labels=True)"
   ]
  },
  {
   "cell_type": "code",
   "execution_count": 36,
   "metadata": {
    "pycharm": {
     "name": "#%%\n"
    }
   },
   "outputs": [
    {
     "data": {
      "application/vnd.plotly.v1+json": {
       "config": {
        "linkText": "Export to plot.ly",
        "plotlyServerURL": "https://plot.ly",
        "responsive": true,
        "showLink": false
       },
       "data": [
        {
         "hoverinfo": "none",
         "line": {
          "color": "#888"
         },
         "mode": "lines",
         "name": "M",
         "type": "scatter3d",
         "uid": "fda5aee8-4da2-4c54-bcfe-890e989069e1",
         "x": [
          0.9994788100416416,
          0.355944855377397,
          null,
          0.355944855377397,
          -0.35542366541903914,
          null,
          -0.35542366541903914,
          -0.9999999999999999,
          null
         ],
         "y": [
          -0.11248100163323406,
          -0.040070598652517345,
          null,
          -0.040070598652517345,
          0.03999315118827126,
          null,
          0.03999315118827126,
          0.11255844909748021,
          null
         ],
         "z": [
          0,
          0,
          null,
          0,
          0,
          null,
          0,
          0,
          null
         ]
        },
        {
         "hoverinfo": "text",
         "marker": {
          "color": "rgb(55,126,184)",
          "opacity": 0.5
         },
         "mode": "markers",
         "name": "a",
         "text": [
          "a1@0.0",
          "a2@0.0",
          "a3@0.0"
         ],
         "type": "scatter3d",
         "uid": "3634b751-479b-4c1f-aa0f-290750e0135d",
         "x": [
          0.355944855377397,
          -0.35542366541903914,
          -0.9999999999999999
         ],
         "y": [
          -0.040070598652517345,
          0.03999315118827126,
          0.11255844909748021
         ],
         "z": [
          0,
          0,
          0
         ]
        },
        {
         "hoverinfo": "text",
         "marker": {
          "color": "rgb(228,26,28)",
          "opacity": 0.5
         },
         "mode": "markers",
         "name": "b",
         "text": [
          "b0@0.0",
          "b1@0.9",
          "b2@1.0",
          "b3@1.4"
         ],
         "type": "scatter3d",
         "uid": "4924cbf1-aa57-4474-b044-f78614dc8c33",
         "x": [
          0.9994788100416416,
          0.355944855377397,
          -0.35542366541903914,
          -0.9999999999999999
         ],
         "y": [
          -0.11248100163323406,
          -0.040070598652517345,
          0.03999315118827126,
          0.11255844909748021
         ],
         "z": [
          0,
          0.9,
          1,
          1.4
         ]
        },
        {
         "hoverinfo": "none",
         "line": {
          "color": "rgb(55,126,184)",
          "dash": "dot"
         },
         "mode": "lines",
         "name": "a",
         "type": "scatter3d",
         "uid": "ab264fc8-839c-4976-891b-adf68c089de4",
         "x": [
          null,
          0.355944855377397,
          0.35594485537739706,
          0.35594485537739695,
          0.35594485537739695,
          0.35594485537739706,
          0.3559448553773971,
          0.355944855377397,
          0.35594485537739695,
          0.355944855377397,
          0.3559448553773971,
          0.355944855377397,
          0.35594485537739706,
          0.355944855377397,
          0.35594485537739706,
          0.35594485537739706,
          0.355944855377397,
          0.35594485537739695,
          0.35594485537739695,
          0.355944855377397,
          0.355944855377397,
          null,
          -0.35542366541903914,
          -0.3554236654190392,
          -0.3554236654190392,
          -0.355423665419039,
          -0.35542366541903914,
          -0.3554236654190392,
          -0.3554236654190392,
          -0.3554236654190391,
          -0.3554236654190392,
          -0.3554236654190392,
          -0.3554236654190392,
          -0.3554236654190392,
          -0.35542366541903914,
          -0.35542366541903914,
          -0.35542366541903914,
          -0.35542366541903914,
          -0.35542366541903914,
          -0.35542366541903914,
          -0.35542366541903914,
          -0.35542366541903914,
          null,
          -0.9999999999999999,
          -1,
          -0.9999999999999998,
          -0.9999999999999998,
          -0.9999999999999999,
          -1.0000000000000002,
          -0.9999999999999998,
          -0.9999999999999997,
          -0.9999999999999998,
          -1,
          -0.9999999999999998,
          -0.9999999999999998,
          -0.9999999999999998,
          -0.9999999999999999,
          -1,
          -0.9999999999999998,
          -0.9999999999999998,
          -0.9999999999999998,
          -0.9999999999999998,
          -0.9999999999999999
         ],
         "y": [
          null,
          -0.040070598652517345,
          -0.04007059865251735,
          -0.04007059865251735,
          -0.04007059865251734,
          -0.04007059865251735,
          -0.040070598652517345,
          -0.040070598652517345,
          -0.040070598652517345,
          -0.040070598652517345,
          -0.04007059865251735,
          -0.04007059865251734,
          -0.040070598652517345,
          -0.040070598652517345,
          -0.040070598652517345,
          -0.040070598652517345,
          -0.040070598652517345,
          -0.040070598652517345,
          -0.040070598652517345,
          -0.040070598652517345,
          -0.040070598652517345,
          null,
          0.03999315118827126,
          0.039993151188271264,
          0.03999315118827126,
          0.03999315118827125,
          0.03999315118827126,
          0.03999315118827127,
          0.039993151188271264,
          0.03999315118827126,
          0.03999315118827126,
          0.03999315118827126,
          0.03999315118827125,
          0.03999315118827126,
          0.03999315118827126,
          0.03999315118827126,
          0.03999315118827126,
          0.03999315118827125,
          0.03999315118827126,
          0.03999315118827126,
          0.03999315118827126,
          0.03999315118827126,
          null,
          0.11255844909748021,
          0.11255844909748022,
          0.1125584490974802,
          0.1125584490974802,
          0.11255844909748021,
          0.11255844909748022,
          0.11255844909748024,
          0.1125584490974802,
          0.1125584490974802,
          0.11255844909748022,
          0.1125584490974802,
          0.11255844909748022,
          0.11255844909748021,
          0.11255844909748022,
          0.1125584490974802,
          0.11255844909748021,
          0.11255844909748021,
          0.11255844909748022,
          0.1125584490974802,
          0.11255844909748021
         ],
         "z": [
          null,
          0,
          0.00013121446274967194,
          0.0010497157019973755,
          0.003542790494241143,
          0.008397725615979004,
          0.016401807843708996,
          0.028342323953929143,
          0.045006560723137475,
          0.06718180492783203,
          0.09565534334451084,
          0.13121446274967197,
          0.17464644991981343,
          0.22673859163143315,
          0.2882781746610292,
          0.3600524857850998,
          0.4428488117801429,
          0.5374544394226562,
          0.6446566554891381,
          0.7652427467560867,
          0.9,
          null,
          0,
          0.00014579384749963548,
          0.0011663507799970839,
          0.003936433882490159,
          0.009330806239976671,
          0.018224230937454438,
          0.03149147105992127,
          0.05000728969237497,
          0.07464644991981337,
          0.10628371482723427,
          0.1457938474996355,
          0.1940516110220149,
          0.25193176847937016,
          0.3203090829566991,
          0.4000583175389998,
          0.4920542353112699,
          0.5971715993585069,
          0.716285172765709,
          0.8502697186178741,
          1,
          null,
          0,
          0.00020411138649948968,
          0.0016328910919959174,
          0.005511007435486222,
          0.01306312873596734,
          0.025513923312436213,
          0.044088059483889774,
          0.07001020556932495,
          0.10450502988773872,
          0.14879720075812797,
          0.2041113864994897,
          0.27167225543082085,
          0.3527044758711182,
          0.4484327161393787,
          0.5600816445545996,
          0.6888759294357778,
          0.8360402391019097,
          1.0027992418719927,
          1.1903776060650237,
          1.4
         ]
        },
        {
         "hoverinfo": "none",
         "line": {
          "color": "rgb(55,126,184)"
         },
         "mode": "lines",
         "name": "a",
         "type": "scatter3d",
         "uid": "87803736-d900-4035-92bd-f090b4403567",
         "x": [],
         "y": [],
         "z": []
        },
        {
         "hoverinfo": "none",
         "line": {
          "color": "rgb(228,26,28)",
          "dash": "dot"
         },
         "mode": "lines",
         "name": "b",
         "type": "scatter3d",
         "uid": "15606469-94a6-476e-9fef-3fbe89ebe927",
         "x": [],
         "y": [],
         "z": []
        },
        {
         "hoverinfo": "none",
         "line": {
          "color": "rgb(228,26,28)"
         },
         "mode": "lines",
         "name": "b",
         "type": "scatter3d",
         "uid": "79692293-e788-4a43-9d7b-fbc097b8e346",
         "x": [
          null,
          0.9994788100416416,
          0.9031222899308123,
          0.8168986852746757,
          0.7402450563257488,
          0.6725984633365494,
          0.6133959665595938,
          0.5620746262473993,
          0.5180715026524829,
          0.48082365602736193,
          0.44976814662455333,
          0.4243420346965739,
          0.40398238049594104,
          0.3881262442751717,
          0.3762106862867828,
          0.3676727667832916,
          0.36194954601721496,
          0.3584780842410702,
          0.3566954417073742,
          0.35603867866864414,
          0.355944855377397,
          null,
          0.355944855377397,
          0.24943144659216018,
          0.1541190583997232,
          0.06938541187826401,
          -0.005391771894039551,
          -0.07083477183900984,
          -0.12756586687846905,
          -0.17620733593423932,
          -0.21738145792814298,
          -0.25171051178200227,
          -0.27981677641763925,
          -0.30232253075687626,
          -0.3198500537215355,
          -0.3330216242334392,
          -0.3424595212144095,
          -0.34878602358626876,
          -0.3526234102708391,
          -0.3545939601899428,
          -0.3553199522654021,
          -0.35542366541903914,
          null,
          -0.35542366541903914,
          -0.4519362613681056,
          -0.5382995288239887,
          -0.6150773193696434,
          -0.682833484588024,
          -0.7421318760620853,
          -0.7935363453747818,
          -0.8376107441090682,
          -0.8749189238478992,
          -0.9060247361742293,
          -0.931492032671013,
          -0.9518846649212053,
          -0.9677664845077605,
          -0.9797013430136334,
          -0.9882530920217785,
          -0.9939855831151505,
          -0.997462667876704,
          -0.9992481978893937,
          -0.9999060247361741,
          -0.9999999999999999
         ],
         "y": [
          null,
          -0.11248100163323406,
          -0.10163897161993825,
          -0.09193709666159465,
          -0.08331203481070594,
          -0.0757004441197748,
          -0.06903898264130387,
          -0.06326430842779576,
          -0.05831307953175316,
          -0.054121954005678735,
          -0.05062758990207513,
          -0.04776664527344495,
          -0.04547577817229091,
          -0.04369164665111566,
          -0.04235090876242183,
          -0.04139022255871207,
          -0.04074624609248904,
          -0.040355637416255405,
          -0.04015505458251381,
          -0.0400811556437669,
          -0.040070598652517345,
          null,
          -0.040070598652517345,
          -0.028082630860347953,
          -0.01735532569870854,
          -0.007818646354791885,
          0.0005974439842092176,
          0.007962982131102003,
          0.014348004898693685,
          0.01982254909979149,
          0.024456651547202637,
          0.02832034905373436,
          0.03148367843219385,
          0.034016676495388365,
          0.0359893800561251,
          0.03747182592721128,
          0.03853405092145414,
          0.03924609185166089,
          0.03967798553063876,
          0.039899768771194964,
          0.03998147838613672,
          0.03999315118827126,
          null,
          0.03999315118827126,
          0.050858373662794894,
          0.06058100214778731,
          0.06922451408711136,
          0.07685238692462991,
          0.08352809810420578,
          0.08931512506970181,
          0.09427694526498084,
          0.09847703613390577,
          0.10197887512033939,
          0.10484593966814454,
          0.1071417072211841,
          0.1089296552233209,
          0.11027326111841779,
          0.11123600235033759,
          0.11188135636294319,
          0.11227280060009741,
          0.11247381250566309,
          0.11254786952350307,
          0.11255844909748021
         ],
         "z": [
          null,
          0,
          0.00013121446274967194,
          0.0010497157019973755,
          0.003542790494241143,
          0.008397725615979004,
          0.016401807843708996,
          0.028342323953929143,
          0.045006560723137475,
          0.06718180492783203,
          0.09565534334451084,
          0.13121446274967197,
          0.17464644991981343,
          0.22673859163143315,
          0.2882781746610292,
          0.3600524857850998,
          0.4428488117801429,
          0.5374544394226562,
          0.6446566554891381,
          0.7652427467560867,
          0.9,
          null,
          0.9,
          0.9000145793847503,
          0.9001166350779997,
          0.9003936433882489,
          0.9009330806239976,
          0.9018224230937455,
          0.9031491471059921,
          0.9050007289692373,
          0.9074646449919814,
          0.9106283714827236,
          0.9145793847499636,
          0.9194051611022016,
          0.925193176847937,
          0.9320309082956699,
          0.9400058317539,
          0.9492054235311269,
          0.9597171599358507,
          0.9716285172765708,
          0.9850269718617874,
          1,
          null,
          1,
          1.000058317539,
          1.0004665403119988,
          1.001574573552996,
          1.0037323224959906,
          1.007289692374982,
          1.0125965884239685,
          1.02000291587695,
          1.0298585799679254,
          1.042513485930894,
          1.0583175389998543,
          1.077620644408806,
          1.1007727073917482,
          1.1281236331826796,
          1.1600233270155997,
          1.196821694124508,
          1.2388686397434028,
          1.2865140691062837,
          1.3401078874471495,
          1.4
         ]
        }
       ],
       "layout": {
        "autosize": true,
        "hovermode": "closest",
        "scene": {
         "aspectmode": "auto",
         "aspectratio": {
          "x": 1,
          "y": 1,
          "z": 1
         },
         "camera": {
          "center": {
           "x": 0,
           "y": 0,
           "z": 0
          },
          "eye": {
           "x": 0.7515443484340105,
           "y": 0.7515443484340109,
           "z": 0.7515443484340105
          },
          "projection": {
           "type": "perspective"
          },
          "up": {
           "x": 0.001435995939894303,
           "y": -0.0014339368082195774,
           "z": 0.9999979408683253
          }
         },
         "xaxis": {
          "autorange": true,
          "showgrid": false,
          "showline": false,
          "showspikes": false,
          "showticklabels": false,
          "ticks": "",
          "title": {
           "text": ""
          },
          "type": "linear",
          "zeroline": false
         },
         "yaxis": {
          "autorange": true,
          "showgrid": false,
          "showline": false,
          "showspikes": false,
          "showticklabels": false,
          "ticks": "",
          "title": {
           "text": ""
          },
          "type": "linear",
          "zeroline": false
         },
         "zaxis": {
          "autorange": true,
          "showgrid": false,
          "showline": false,
          "showspikes": false,
          "showticklabels": false,
          "ticks": "",
          "title": {
           "text": ""
          },
          "type": "linear",
          "zeroline": false
         }
        },
        "title": {
         "text": "Temporal graph"
        }
       }
      },
      "image/png": "[encoded data removed]",
      "text/html": [
       "<div>\n",
       "        \n",
       "        \n",
       "            <div id=\"da5b89a2-fa48-4f5d-b88a-3cc44ea0f40a\" class=\"plotly-graph-div\" style=\"height:525px; width:100%;\"></div>\n",
       "            <script type=\"text/javascript\">\n",
       "                require([\"plotly\"], function(Plotly) {\n",
       "                    window.PLOTLYENV=window.PLOTLYENV || {};\n",
       "                    window.PLOTLYENV.BASE_URL='https://plot.ly';\n",
       "                    \n",
       "                if (document.getElementById(\"da5b89a2-fa48-4f5d-b88a-3cc44ea0f40a\")) {\n",
       "                    Plotly.newPlot(\n",
       "                        'da5b89a2-fa48-4f5d-b88a-3cc44ea0f40a',\n",
       "                        [{\"hoverinfo\": \"none\", \"line\": {\"color\": \"#888\"}, \"mode\": \"lines\", \"name\": \"M\", \"type\": \"scatter3d\", \"uid\": \"c437287a-1da9-4b8a-a033-209971435cdb\", \"x\": [0.9994788100416416, 0.355944855377397, null, 0.355944855377397, -0.35542366541903914, null, -0.35542366541903914, -0.9999999999999999, null], \"y\": [-0.11248100163323406, -0.040070598652517345, null, -0.040070598652517345, 0.03999315118827126, null, 0.03999315118827126, 0.11255844909748021, null], \"z\": [0, 0, null, 0, 0, null, 0, 0, null]}, {\"hoverinfo\": \"text\", \"marker\": {\"color\": \"rgb(55,126,184)\", \"opacity\": 0.5}, \"mode\": \"markers\", \"name\": \"a\", \"text\": [\"a1@0.0\", \"a2@0.0\", \"a3@0.0\"], \"type\": \"scatter3d\", \"uid\": \"18a985b9-20a3-465f-99fb-6e0d9b526663\", \"x\": [0.355944855377397, -0.35542366541903914, -0.9999999999999999], \"y\": [-0.040070598652517345, 0.03999315118827126, 0.11255844909748021], \"z\": [0.0, 0.0, 0.0]}, {\"hoverinfo\": \"text\", \"marker\": {\"color\": \"rgb(228,26,28)\", \"opacity\": 0.5}, \"mode\": \"markers\", \"name\": \"b\", \"text\": [\"b0@0.0\", \"b1@0.9\", \"b2@1.0\", \"b3@1.4\"], \"type\": \"scatter3d\", \"uid\": \"8279136e-02f7-491e-976b-4def59a5eaad\", \"x\": [0.9994788100416416, 0.355944855377397, -0.35542366541903914, -0.9999999999999999], \"y\": [-0.11248100163323406, -0.040070598652517345, 0.03999315118827126, 0.11255844909748021], \"z\": [0.0, 0.9, 1.0, 1.4]}, {\"hoverinfo\": \"none\", \"line\": {\"color\": \"rgb(55,126,184)\", \"dash\": \"dot\"}, \"mode\": \"lines\", \"name\": \"a\", \"type\": \"scatter3d\", \"uid\": \"cf300208-11cc-49f0-be3f-4b530710fa3a\", \"x\": [null, 0.355944855377397, 0.35594485537739706, 0.35594485537739695, 0.35594485537739695, 0.35594485537739706, 0.3559448553773971, 0.355944855377397, 0.35594485537739695, 0.355944855377397, 0.3559448553773971, 0.355944855377397, 0.35594485537739706, 0.355944855377397, 0.35594485537739706, 0.35594485537739706, 0.355944855377397, 0.35594485537739695, 0.35594485537739695, 0.355944855377397, 0.355944855377397, null, -0.35542366541903914, -0.3554236654190392, -0.3554236654190392, -0.355423665419039, -0.35542366541903914, -0.3554236654190392, -0.3554236654190392, -0.3554236654190391, -0.3554236654190392, -0.3554236654190392, -0.3554236654190392, -0.3554236654190392, -0.35542366541903914, -0.35542366541903914, -0.35542366541903914, -0.35542366541903914, -0.35542366541903914, -0.35542366541903914, -0.35542366541903914, -0.35542366541903914, null, -0.9999999999999999, -1.0, -0.9999999999999998, -0.9999999999999998, -0.9999999999999999, -1.0000000000000002, -0.9999999999999998, -0.9999999999999997, -0.9999999999999998, -1.0, -0.9999999999999998, -0.9999999999999998, -0.9999999999999998, -0.9999999999999999, -1.0, -0.9999999999999998, -0.9999999999999998, -0.9999999999999998, -0.9999999999999998, -0.9999999999999999], \"y\": [null, -0.040070598652517345, -0.04007059865251735, -0.04007059865251735, -0.04007059865251734, -0.04007059865251735, -0.040070598652517345, -0.040070598652517345, -0.040070598652517345, -0.040070598652517345, -0.04007059865251735, -0.04007059865251734, -0.040070598652517345, -0.040070598652517345, -0.040070598652517345, -0.040070598652517345, -0.040070598652517345, -0.040070598652517345, -0.040070598652517345, -0.040070598652517345, -0.040070598652517345, null, 0.03999315118827126, 0.039993151188271264, 0.03999315118827126, 0.03999315118827125, 0.03999315118827126, 0.03999315118827127, 0.039993151188271264, 0.03999315118827126, 0.03999315118827126, 0.03999315118827126, 0.03999315118827125, 0.03999315118827126, 0.03999315118827126, 0.03999315118827126, 0.03999315118827126, 0.03999315118827125, 0.03999315118827126, 0.03999315118827126, 0.03999315118827126, 0.03999315118827126, null, 0.11255844909748021, 0.11255844909748022, 0.1125584490974802, 0.1125584490974802, 0.11255844909748021, 0.11255844909748022, 0.11255844909748024, 0.1125584490974802, 0.1125584490974802, 0.11255844909748022, 0.1125584490974802, 0.11255844909748022, 0.11255844909748021, 0.11255844909748022, 0.1125584490974802, 0.11255844909748021, 0.11255844909748021, 0.11255844909748022, 0.1125584490974802, 0.11255844909748021], \"z\": [null, 0.0, 0.00013121446274967194, 0.0010497157019973755, 0.003542790494241143, 0.008397725615979004, 0.016401807843708996, 0.028342323953929143, 0.045006560723137475, 0.06718180492783203, 0.09565534334451084, 0.13121446274967197, 0.17464644991981343, 0.22673859163143315, 0.2882781746610292, 0.3600524857850998, 0.4428488117801429, 0.5374544394226562, 0.6446566554891381, 0.7652427467560867, 0.9, null, 0.0, 0.00014579384749963548, 0.0011663507799970839, 0.003936433882490159, 0.009330806239976671, 0.018224230937454438, 0.03149147105992127, 0.05000728969237497, 0.07464644991981337, 0.10628371482723427, 0.1457938474996355, 0.1940516110220149, 0.25193176847937016, 0.3203090829566991, 0.4000583175389998, 0.4920542353112699, 0.5971715993585069, 0.716285172765709, 0.8502697186178741, 1.0, null, 0.0, 0.00020411138649948968, 0.0016328910919959174, 0.005511007435486222, 0.01306312873596734, 0.025513923312436213, 0.044088059483889774, 0.07001020556932495, 0.10450502988773872, 0.14879720075812797, 0.2041113864994897, 0.27167225543082085, 0.3527044758711182, 0.4484327161393787, 0.5600816445545996, 0.6888759294357778, 0.8360402391019097, 1.0027992418719927, 1.1903776060650237, 1.4]}, {\"hoverinfo\": \"none\", \"line\": {\"color\": \"rgb(55,126,184)\"}, \"mode\": \"lines\", \"name\": \"a\", \"type\": \"scatter3d\", \"uid\": \"048d58e3-e45d-4b91-a61f-5358cdd721e7\", \"x\": [], \"y\": [], \"z\": []}, {\"hoverinfo\": \"none\", \"line\": {\"color\": \"rgb(228,26,28)\", \"dash\": \"dot\"}, \"mode\": \"lines\", \"name\": \"b\", \"type\": \"scatter3d\", \"uid\": \"c6758938-9160-4d2a-9777-1ed7b82aa936\", \"x\": [], \"y\": [], \"z\": []}, {\"hoverinfo\": \"none\", \"line\": {\"color\": \"rgb(228,26,28)\"}, \"mode\": \"lines\", \"name\": \"b\", \"type\": \"scatter3d\", \"uid\": \"ce5ee1ff-1a00-49ad-a8a7-6cb19dc718ae\", \"x\": [null, 0.9994788100416416, 0.9031222899308123, 0.8168986852746757, 0.7402450563257488, 0.6725984633365494, 0.6133959665595938, 0.5620746262473993, 0.5180715026524829, 0.48082365602736193, 0.44976814662455333, 0.4243420346965739, 0.40398238049594104, 0.3881262442751717, 0.3762106862867828, 0.3676727667832916, 0.36194954601721496, 0.3584780842410702, 0.3566954417073742, 0.35603867866864414, 0.355944855377397, null, 0.355944855377397, 0.24943144659216018, 0.1541190583997232, 0.06938541187826401, -0.005391771894039551, -0.07083477183900984, -0.12756586687846905, -0.17620733593423932, -0.21738145792814298, -0.25171051178200227, -0.27981677641763925, -0.30232253075687626, -0.3198500537215355, -0.3330216242334392, -0.3424595212144095, -0.34878602358626876, -0.3526234102708391, -0.3545939601899428, -0.3553199522654021, -0.35542366541903914, null, -0.35542366541903914, -0.4519362613681056, -0.5382995288239887, -0.6150773193696434, -0.682833484588024, -0.7421318760620853, -0.7935363453747818, -0.8376107441090682, -0.8749189238478992, -0.9060247361742293, -0.931492032671013, -0.9518846649212053, -0.9677664845077605, -0.9797013430136334, -0.9882530920217785, -0.9939855831151505, -0.997462667876704, -0.9992481978893937, -0.9999060247361741, -0.9999999999999999], \"y\": [null, -0.11248100163323406, -0.10163897161993825, -0.09193709666159465, -0.08331203481070594, -0.0757004441197748, -0.06903898264130387, -0.06326430842779576, -0.05831307953175316, -0.054121954005678735, -0.05062758990207513, -0.04776664527344495, -0.04547577817229091, -0.04369164665111566, -0.04235090876242183, -0.04139022255871207, -0.04074624609248904, -0.040355637416255405, -0.04015505458251381, -0.0400811556437669, -0.040070598652517345, null, -0.040070598652517345, -0.028082630860347953, -0.01735532569870854, -0.007818646354791885, 0.0005974439842092176, 0.007962982131102003, 0.014348004898693685, 0.01982254909979149, 0.024456651547202637, 0.02832034905373436, 0.03148367843219385, 0.034016676495388365, 0.0359893800561251, 0.03747182592721128, 0.03853405092145414, 0.03924609185166089, 0.03967798553063876, 0.039899768771194964, 0.03998147838613672, 0.03999315118827126, null, 0.03999315118827126, 0.050858373662794894, 0.06058100214778731, 0.06922451408711136, 0.07685238692462991, 0.08352809810420578, 0.08931512506970181, 0.09427694526498084, 0.09847703613390577, 0.10197887512033939, 0.10484593966814454, 0.1071417072211841, 0.1089296552233209, 0.11027326111841779, 0.11123600235033759, 0.11188135636294319, 0.11227280060009741, 0.11247381250566309, 0.11254786952350307, 0.11255844909748021], \"z\": [null, 0.0, 0.00013121446274967194, 0.0010497157019973755, 0.003542790494241143, 0.008397725615979004, 0.016401807843708996, 0.028342323953929143, 0.045006560723137475, 0.06718180492783203, 0.09565534334451084, 0.13121446274967197, 0.17464644991981343, 0.22673859163143315, 0.2882781746610292, 0.3600524857850998, 0.4428488117801429, 0.5374544394226562, 0.6446566554891381, 0.7652427467560867, 0.9, null, 0.9, 0.9000145793847503, 0.9001166350779997, 0.9003936433882489, 0.9009330806239976, 0.9018224230937455, 0.9031491471059921, 0.9050007289692373, 0.9074646449919814, 0.9106283714827236, 0.9145793847499636, 0.9194051611022016, 0.925193176847937, 0.9320309082956699, 0.9400058317539, 0.9492054235311269, 0.9597171599358507, 0.9716285172765708, 0.9850269718617874, 1.0, null, 1.0, 1.000058317539, 1.0004665403119988, 1.001574573552996, 1.0037323224959906, 1.007289692374982, 1.0125965884239685, 1.02000291587695, 1.0298585799679254, 1.042513485930894, 1.0583175389998543, 1.077620644408806, 1.1007727073917482, 1.1281236331826796, 1.1600233270155997, 1.196821694124508, 1.2388686397434028, 1.2865140691062837, 1.3401078874471495, 1.4]}],\n",
       "                        {\"hovermode\": \"closest\", \"scene\": {\"xaxis\": {\"autorange\": true, \"showgrid\": false, \"showline\": false, \"showspikes\": false, \"showticklabels\": false, \"ticks\": \"\", \"title\": {\"text\": \"\"}, \"zeroline\": false}, \"yaxis\": {\"autorange\": true, \"showgrid\": false, \"showline\": false, \"showspikes\": false, \"showticklabels\": false, \"ticks\": \"\", \"title\": {\"text\": \"\"}, \"zeroline\": false}, \"zaxis\": {\"autorange\": true, \"showgrid\": false, \"showline\": false, \"showspikes\": false, \"showticklabels\": false, \"ticks\": \"\", \"title\": {\"text\": \"\"}, \"zeroline\": false}}, \"title\": {\"text\": \"Temporal graph\"}},\n",
       "                        {\"showLink\": false, \"linkText\": \"Export to plot.ly\", \"plotlyServerURL\": \"https://plot.ly\", \"responsive\": true}\n",
       "                    ).then(function(){\n",
       "                            \n",
       "var gd = document.getElementById('da5b89a2-fa48-4f5d-b88a-3cc44ea0f40a');\n",
       "var x = new MutationObserver(function (mutations, observer) {{\n",
       "        var display = window.getComputedStyle(gd).display;\n",
       "        if (!display || display === 'none') {{\n",
       "            console.log([gd, 'removed!']);\n",
       "            Plotly.purge(gd);\n",
       "            observer.disconnect();\n",
       "        }}\n",
       "}});\n",
       "\n",
       "// Listen for the removal of the full notebook cells\n",
       "var notebookContainer = gd.closest('#notebook-container');\n",
       "if (notebookContainer) {{\n",
       "    x.observe(notebookContainer, {childList: true});\n",
       "}}\n",
       "\n",
       "// Listen for the clearing of the current output cell\n",
       "var outputEl = gd.closest('.output');\n",
       "if (outputEl) {{\n",
       "    x.observe(outputEl, {childList: true});\n",
       "}}\n",
       "\n",
       "                        })\n",
       "                };\n",
       "                });\n",
       "            </script>\n",
       "        </div>"
      ]
     },
     "metadata": {},
     "output_type": "display_data"
    }
   ],
   "source": [
    "py.iplot(g)"
   ]
  },
  {
   "cell_type": "markdown",
   "metadata": {
    "pycharm": {
     "is_executing": false,
     "name": "#%% md\n"
    }
   },
   "source": [
    "## visualise with `occdash`\n",
    "\n",
    "View and interact with simulation results. This only works with simulations that have been archived in the run folder (see above).\n",
    "\n",
    "Expects redis to be running on port 6379 for caching. Start using:\n",
    "\n",
    "    $ redis-server\n",
    "    \n",
    "Start the dash application (from occmodeler repo dir):\n",
    "\n",
    "    $ python path/to/occdash/app.py\n",
    "    \n",
    "To view a particular run use http://127.0.0.1:8050/run-1 . To view the last run (collected to `occ.sim.BASEDIR`) open http://127.0.0.1:8050/run-last and reload to update. Note that `occ.sim.run()` will trigger a reload of occdash if it is open. It does this by calling `occdash.manage.reload_dash_server()` which uses a very heavy handed way to hot re-serve the page and force the client to reload.\n",
    "   \n",
    "Dash sometimes gets stuck running in the background. This alias is useful to kill it:\n",
    " \n",
    "    alias killdash='kill -9 `lsof -i:8050 -t`'\n"
   ]
  }
 ],
 "metadata": {
  "kernelspec": {
   "display_name": "Python 3",
   "language": "python",
   "name": "python3"
  },
  "language_info": {
   "codemirror_mode": {
    "name": "ipython",
    "version": 3
   },
   "file_extension": ".py",
   "mimetype": "text/x-python",
   "name": "python",
   "nbconvert_exporter": "python",
   "pygments_lexer": "ipython3",
   "version": "3.7.2"
  },
  "pycharm": {
   "stem_cell": {
    "cell_type": "raw",
    "metadata": {
     "collapsed": false
    },
    "source": []
   }
  }
 },
 "nbformat": 4,
 "nbformat_minor": 2
}
